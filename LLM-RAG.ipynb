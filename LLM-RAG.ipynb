{
 "cells": [
  {
   "cell_type": "code",
   "execution_count": 2,
   "id": "78731a39",
   "metadata": {},
   "outputs": [
    {
     "name": "stdout",
     "output_type": "stream",
     "text": [
      "Collecting openai==1.27\n",
      "  Obtaining dependency information for openai==1.27 from https://files.pythonhosted.org/packages/00/64/e95603577496203ad936aba4de07173c1fe5799c45d2ccf7e311b7c2a91e/openai-1.27.0-py3-none-any.whl.metadata\n",
      "  Using cached openai-1.27.0-py3-none-any.whl.metadata (21 kB)\n",
      "Requirement already satisfied: anyio<5,>=3.5.0 in c:\\users\\gs\\anaconda3\\lib\\site-packages (from openai==1.27) (3.5.0)\n",
      "Requirement already satisfied: distro<2,>=1.7.0 in c:\\users\\gs\\anaconda3\\lib\\site-packages (from openai==1.27) (1.8.0)\n",
      "Requirement already satisfied: httpx<1,>=0.23.0 in c:\\users\\gs\\anaconda3\\lib\\site-packages (from openai==1.27) (0.25.2)\n",
      "Requirement already satisfied: pydantic<3,>=1.9.0 in c:\\users\\gs\\anaconda3\\lib\\site-packages (from openai==1.27) (1.10.8)\n",
      "Requirement already satisfied: sniffio in c:\\users\\gs\\anaconda3\\lib\\site-packages (from openai==1.27) (1.2.0)\n",
      "Requirement already satisfied: tqdm>4 in c:\\users\\gs\\anaconda3\\lib\\site-packages (from openai==1.27) (4.65.0)\n",
      "Requirement already satisfied: typing-extensions<5,>=4.7 in c:\\users\\gs\\anaconda3\\lib\\site-packages (from openai==1.27) (4.11.0)\n",
      "Requirement already satisfied: idna>=2.8 in c:\\users\\gs\\anaconda3\\lib\\site-packages (from anyio<5,>=3.5.0->openai==1.27) (3.4)\n",
      "Requirement already satisfied: certifi in c:\\users\\gs\\anaconda3\\lib\\site-packages (from httpx<1,>=0.23.0->openai==1.27) (2024.2.2)\n",
      "Requirement already satisfied: httpcore==1.* in c:\\users\\gs\\anaconda3\\lib\\site-packages (from httpx<1,>=0.23.0->openai==1.27) (1.0.2)\n",
      "Requirement already satisfied: h11<0.15,>=0.13 in c:\\users\\gs\\anaconda3\\lib\\site-packages (from httpcore==1.*->httpx<1,>=0.23.0->openai==1.27) (0.14.0)\n",
      "Requirement already satisfied: colorama in c:\\users\\gs\\anaconda3\\lib\\site-packages (from tqdm>4->openai==1.27) (0.4.6)\n",
      "Using cached openai-1.27.0-py3-none-any.whl (314 kB)\n",
      "Installing collected packages: openai\n",
      "  Attempting uninstall: openai\n",
      "    Found existing installation: openai 1.42.0\n",
      "    Uninstalling openai-1.42.0:\n",
      "      Successfully uninstalled openai-1.42.0\n",
      "Successfully installed openai-1.27.0\n"
     ]
    },
    {
     "name": "stderr",
     "output_type": "stream",
     "text": [
      "ERROR: pip's dependency resolver does not currently take into account all the packages that are installed. This behaviour is the source of the following dependency conflicts.\n",
      "langchain-openai 0.1.22 requires openai<2.0.0,>=1.40.0, but you have openai 1.27.0 which is incompatible.\n"
     ]
    },
    {
     "name": "stdout",
     "output_type": "stream",
     "text": [
      "Collecting pinecone-client==4.0.0\n",
      "  Obtaining dependency information for pinecone-client==4.0.0 from https://files.pythonhosted.org/packages/9c/64/081b55a33e492fc181524a955c2b65ba8a628dbc1bb897e65b723c7b7ffc/pinecone_client-4.0.0-py3-none-any.whl.metadata\n",
      "  Using cached pinecone_client-4.0.0-py3-none-any.whl.metadata (16 kB)\n",
      "Requirement already satisfied: certifi>=2019.11.17 in c:\\users\\gs\\anaconda3\\lib\\site-packages (from pinecone-client==4.0.0) (2024.2.2)\n",
      "Requirement already satisfied: tqdm>=4.64.1 in c:\\users\\gs\\anaconda3\\lib\\site-packages (from pinecone-client==4.0.0) (4.65.0)\n",
      "Requirement already satisfied: typing-extensions>=3.7.4 in c:\\users\\gs\\anaconda3\\lib\\site-packages (from pinecone-client==4.0.0) (4.11.0)\n",
      "Requirement already satisfied: urllib3>=1.26.0 in c:\\users\\gs\\anaconda3\\lib\\site-packages (from pinecone-client==4.0.0) (1.26.16)\n",
      "Requirement already satisfied: colorama in c:\\users\\gs\\anaconda3\\lib\\site-packages (from tqdm>=4.64.1->pinecone-client==4.0.0) (0.4.6)\n",
      "Using cached pinecone_client-4.0.0-py3-none-any.whl (214 kB)\n",
      "Installing collected packages: pinecone-client\n",
      "  Attempting uninstall: pinecone-client\n",
      "    Found existing installation: pinecone-client 3.2.2\n",
      "    Uninstalling pinecone-client-3.2.2:\n",
      "      Successfully uninstalled pinecone-client-3.2.2\n",
      "Successfully installed pinecone-client-4.0.0\n"
     ]
    },
    {
     "name": "stderr",
     "output_type": "stream",
     "text": [
      "ERROR: pip's dependency resolver does not currently take into account all the packages that are installed. This behaviour is the source of the following dependency conflicts.\n",
      "langchain-pinecone 0.1.0 requires langchain-core<0.2.0,>=0.1.40, but you have langchain-core 0.2.34 which is incompatible.\n",
      "langchain-pinecone 0.1.0 requires pinecone-client<4.0.0,>=3.2.2, but you have pinecone-client 4.0.0 which is incompatible.\n"
     ]
    },
    {
     "name": "stdout",
     "output_type": "stream",
     "text": [
      "Requirement already satisfied: langchain==0.1.19 in c:\\users\\gs\\anaconda3\\lib\\site-packages (0.1.19)\n",
      "Requirement already satisfied: PyYAML>=5.3 in c:\\users\\gs\\anaconda3\\lib\\site-packages (from langchain==0.1.19) (6.0)\n",
      "Requirement already satisfied: SQLAlchemy<3,>=1.4 in c:\\users\\gs\\anaconda3\\lib\\site-packages (from langchain==0.1.19) (2.0.23)\n",
      "Requirement already satisfied: aiohttp<4.0.0,>=3.8.3 in c:\\users\\gs\\anaconda3\\lib\\site-packages (from langchain==0.1.19) (3.8.5)\n",
      "Requirement already satisfied: dataclasses-json<0.7,>=0.5.7 in c:\\users\\gs\\anaconda3\\lib\\site-packages (from langchain==0.1.19) (0.5.14)\n",
      "Requirement already satisfied: langchain-community<0.1,>=0.0.38 in c:\\users\\gs\\anaconda3\\lib\\site-packages (from langchain==0.1.19) (0.0.38)\n",
      "Collecting langchain-core<0.2.0,>=0.1.52 (from langchain==0.1.19)\n",
      "  Obtaining dependency information for langchain-core<0.2.0,>=0.1.52 from https://files.pythonhosted.org/packages/43/8b/48b7e6de9041d2b33d5108e154b82d1bd6c47cc68f0e44cb4fcdaccf5ec7/langchain_core-0.1.52-py3-none-any.whl.metadata\n",
      "  Using cached langchain_core-0.1.52-py3-none-any.whl.metadata (5.9 kB)\n",
      "Requirement already satisfied: langchain-text-splitters<0.1,>=0.0.1 in c:\\users\\gs\\anaconda3\\lib\\site-packages (from langchain==0.1.19) (0.0.2)\n",
      "Requirement already satisfied: langsmith<0.2.0,>=0.1.17 in c:\\users\\gs\\anaconda3\\lib\\site-packages (from langchain==0.1.19) (0.1.75)\n",
      "Requirement already satisfied: numpy<2,>=1 in c:\\users\\gs\\anaconda3\\lib\\site-packages (from langchain==0.1.19) (1.24.3)\n",
      "Requirement already satisfied: pydantic<3,>=1 in c:\\users\\gs\\anaconda3\\lib\\site-packages (from langchain==0.1.19) (1.10.8)\n",
      "Requirement already satisfied: requests<3,>=2 in c:\\users\\gs\\anaconda3\\lib\\site-packages (from langchain==0.1.19) (2.31.0)\n",
      "Requirement already satisfied: tenacity<9.0.0,>=8.1.0 in c:\\users\\gs\\anaconda3\\lib\\site-packages (from langchain==0.1.19) (8.2.2)\n",
      "Requirement already satisfied: attrs>=17.3.0 in c:\\users\\gs\\anaconda3\\lib\\site-packages (from aiohttp<4.0.0,>=3.8.3->langchain==0.1.19) (24.2.0)\n",
      "Requirement already satisfied: charset-normalizer<4.0,>=2.0 in c:\\users\\gs\\anaconda3\\lib\\site-packages (from aiohttp<4.0.0,>=3.8.3->langchain==0.1.19) (2.0.4)\n",
      "Requirement already satisfied: multidict<7.0,>=4.5 in c:\\users\\gs\\anaconda3\\lib\\site-packages (from aiohttp<4.0.0,>=3.8.3->langchain==0.1.19) (6.0.2)\n",
      "Requirement already satisfied: async-timeout<5.0,>=4.0.0a3 in c:\\users\\gs\\anaconda3\\lib\\site-packages (from aiohttp<4.0.0,>=3.8.3->langchain==0.1.19) (4.0.2)\n",
      "Requirement already satisfied: yarl<2.0,>=1.0 in c:\\users\\gs\\anaconda3\\lib\\site-packages (from aiohttp<4.0.0,>=3.8.3->langchain==0.1.19) (1.8.1)\n",
      "Requirement already satisfied: frozenlist>=1.1.1 in c:\\users\\gs\\anaconda3\\lib\\site-packages (from aiohttp<4.0.0,>=3.8.3->langchain==0.1.19) (1.3.3)\n",
      "Requirement already satisfied: aiosignal>=1.1.2 in c:\\users\\gs\\anaconda3\\lib\\site-packages (from aiohttp<4.0.0,>=3.8.3->langchain==0.1.19) (1.2.0)\n",
      "Requirement already satisfied: marshmallow<4.0.0,>=3.18.0 in c:\\users\\gs\\anaconda3\\lib\\site-packages (from dataclasses-json<0.7,>=0.5.7->langchain==0.1.19) (3.21.3)\n",
      "Requirement already satisfied: typing-inspect<1,>=0.4.0 in c:\\users\\gs\\anaconda3\\lib\\site-packages (from dataclasses-json<0.7,>=0.5.7->langchain==0.1.19) (0.9.0)\n",
      "Requirement already satisfied: jsonpatch<2.0,>=1.33 in c:\\users\\gs\\anaconda3\\lib\\site-packages (from langchain-core<0.2.0,>=0.1.52->langchain==0.1.19) (1.33)\n",
      "Requirement already satisfied: packaging<24.0,>=23.2 in c:\\users\\gs\\anaconda3\\lib\\site-packages (from langchain-core<0.2.0,>=0.1.52->langchain==0.1.19) (23.2)\n",
      "Requirement already satisfied: orjson<4.0.0,>=3.9.14 in c:\\users\\gs\\anaconda3\\lib\\site-packages (from langsmith<0.2.0,>=0.1.17->langchain==0.1.19) (3.10.3)\n",
      "Requirement already satisfied: typing-extensions>=4.2.0 in c:\\users\\gs\\anaconda3\\lib\\site-packages (from pydantic<3,>=1->langchain==0.1.19) (4.11.0)\n",
      "Requirement already satisfied: idna<4,>=2.5 in c:\\users\\gs\\anaconda3\\lib\\site-packages (from requests<3,>=2->langchain==0.1.19) (3.4)\n",
      "Requirement already satisfied: urllib3<3,>=1.21.1 in c:\\users\\gs\\anaconda3\\lib\\site-packages (from requests<3,>=2->langchain==0.1.19) (1.26.16)\n",
      "Requirement already satisfied: certifi>=2017.4.17 in c:\\users\\gs\\anaconda3\\lib\\site-packages (from requests<3,>=2->langchain==0.1.19) (2024.2.2)\n",
      "Requirement already satisfied: greenlet!=0.4.17 in c:\\users\\gs\\anaconda3\\lib\\site-packages (from SQLAlchemy<3,>=1.4->langchain==0.1.19) (2.0.1)\n",
      "Requirement already satisfied: jsonpointer>=1.9 in c:\\users\\gs\\anaconda3\\lib\\site-packages (from jsonpatch<2.0,>=1.33->langchain-core<0.2.0,>=0.1.52->langchain==0.1.19) (2.1)\n",
      "Requirement already satisfied: mypy-extensions>=0.3.0 in c:\\users\\gs\\anaconda3\\lib\\site-packages (from typing-inspect<1,>=0.4.0->dataclasses-json<0.7,>=0.5.7->langchain==0.1.19) (1.0.0)\n",
      "Using cached langchain_core-0.1.52-py3-none-any.whl (302 kB)\n",
      "Installing collected packages: langchain-core\n",
      "  Attempting uninstall: langchain-core\n",
      "    Found existing installation: langchain-core 0.2.34\n",
      "    Uninstalling langchain-core-0.2.34:\n",
      "      Successfully uninstalled langchain-core-0.2.34\n",
      "Successfully installed langchain-core-0.1.52\n"
     ]
    },
    {
     "name": "stderr",
     "output_type": "stream",
     "text": [
      "ERROR: pip's dependency resolver does not currently take into account all the packages that are installed. This behaviour is the source of the following dependency conflicts.\n",
      "langchain-openai 0.1.22 requires langchain-core<0.3.0,>=0.2.33, but you have langchain-core 0.1.52 which is incompatible.\n",
      "langchain-openai 0.1.22 requires openai<2.0.0,>=1.40.0, but you have openai 1.27.0 which is incompatible.\n",
      "langchain-pinecone 0.1.0 requires pinecone-client<4.0.0,>=3.2.2, but you have pinecone-client 4.0.0 which is incompatible.\n"
     ]
    },
    {
     "name": "stdout",
     "output_type": "stream",
     "text": [
      "Collecting langchain-openai==0.1.6\n",
      "  Obtaining dependency information for langchain-openai==0.1.6 from https://files.pythonhosted.org/packages/1c/ff/d8bf3cacd55cabd85deed923a22a72e0c306a1211584f78a933512c3ef8f/langchain_openai-0.1.6-py3-none-any.whl.metadata\n",
      "  Using cached langchain_openai-0.1.6-py3-none-any.whl.metadata (2.5 kB)\n",
      "Requirement already satisfied: langchain-core<0.2.0,>=0.1.46 in c:\\users\\gs\\anaconda3\\lib\\site-packages (from langchain-openai==0.1.6) (0.1.52)\n",
      "Requirement already satisfied: openai<2.0.0,>=1.24.0 in c:\\users\\gs\\anaconda3\\lib\\site-packages (from langchain-openai==0.1.6) (1.27.0)\n",
      "Requirement already satisfied: tiktoken<1,>=0.5.2 in c:\\users\\gs\\anaconda3\\lib\\site-packages (from langchain-openai==0.1.6) (0.7.0)\n",
      "Requirement already satisfied: PyYAML>=5.3 in c:\\users\\gs\\anaconda3\\lib\\site-packages (from langchain-core<0.2.0,>=0.1.46->langchain-openai==0.1.6) (6.0)\n",
      "Requirement already satisfied: jsonpatch<2.0,>=1.33 in c:\\users\\gs\\anaconda3\\lib\\site-packages (from langchain-core<0.2.0,>=0.1.46->langchain-openai==0.1.6) (1.33)\n",
      "Requirement already satisfied: langsmith<0.2.0,>=0.1.0 in c:\\users\\gs\\anaconda3\\lib\\site-packages (from langchain-core<0.2.0,>=0.1.46->langchain-openai==0.1.6) (0.1.75)\n",
      "Requirement already satisfied: packaging<24.0,>=23.2 in c:\\users\\gs\\anaconda3\\lib\\site-packages (from langchain-core<0.2.0,>=0.1.46->langchain-openai==0.1.6) (23.2)\n",
      "Requirement already satisfied: pydantic<3,>=1 in c:\\users\\gs\\anaconda3\\lib\\site-packages (from langchain-core<0.2.0,>=0.1.46->langchain-openai==0.1.6) (1.10.8)\n",
      "Requirement already satisfied: tenacity<9.0.0,>=8.1.0 in c:\\users\\gs\\anaconda3\\lib\\site-packages (from langchain-core<0.2.0,>=0.1.46->langchain-openai==0.1.6) (8.2.2)\n",
      "Requirement already satisfied: anyio<5,>=3.5.0 in c:\\users\\gs\\anaconda3\\lib\\site-packages (from openai<2.0.0,>=1.24.0->langchain-openai==0.1.6) (3.5.0)\n",
      "Requirement already satisfied: distro<2,>=1.7.0 in c:\\users\\gs\\anaconda3\\lib\\site-packages (from openai<2.0.0,>=1.24.0->langchain-openai==0.1.6) (1.8.0)\n",
      "Requirement already satisfied: httpx<1,>=0.23.0 in c:\\users\\gs\\anaconda3\\lib\\site-packages (from openai<2.0.0,>=1.24.0->langchain-openai==0.1.6) (0.25.2)\n",
      "Requirement already satisfied: sniffio in c:\\users\\gs\\anaconda3\\lib\\site-packages (from openai<2.0.0,>=1.24.0->langchain-openai==0.1.6) (1.2.0)\n",
      "Requirement already satisfied: tqdm>4 in c:\\users\\gs\\anaconda3\\lib\\site-packages (from openai<2.0.0,>=1.24.0->langchain-openai==0.1.6) (4.65.0)\n",
      "Requirement already satisfied: typing-extensions<5,>=4.7 in c:\\users\\gs\\anaconda3\\lib\\site-packages (from openai<2.0.0,>=1.24.0->langchain-openai==0.1.6) (4.11.0)\n",
      "Requirement already satisfied: regex>=2022.1.18 in c:\\users\\gs\\anaconda3\\lib\\site-packages (from tiktoken<1,>=0.5.2->langchain-openai==0.1.6) (2022.7.9)\n",
      "Requirement already satisfied: requests>=2.26.0 in c:\\users\\gs\\anaconda3\\lib\\site-packages (from tiktoken<1,>=0.5.2->langchain-openai==0.1.6) (2.31.0)\n",
      "Requirement already satisfied: idna>=2.8 in c:\\users\\gs\\anaconda3\\lib\\site-packages (from anyio<5,>=3.5.0->openai<2.0.0,>=1.24.0->langchain-openai==0.1.6) (3.4)\n",
      "Requirement already satisfied: certifi in c:\\users\\gs\\anaconda3\\lib\\site-packages (from httpx<1,>=0.23.0->openai<2.0.0,>=1.24.0->langchain-openai==0.1.6) (2024.2.2)\n",
      "Requirement already satisfied: httpcore==1.* in c:\\users\\gs\\anaconda3\\lib\\site-packages (from httpx<1,>=0.23.0->openai<2.0.0,>=1.24.0->langchain-openai==0.1.6) (1.0.2)\n",
      "Requirement already satisfied: h11<0.15,>=0.13 in c:\\users\\gs\\anaconda3\\lib\\site-packages (from httpcore==1.*->httpx<1,>=0.23.0->openai<2.0.0,>=1.24.0->langchain-openai==0.1.6) (0.14.0)\n",
      "Requirement already satisfied: jsonpointer>=1.9 in c:\\users\\gs\\anaconda3\\lib\\site-packages (from jsonpatch<2.0,>=1.33->langchain-core<0.2.0,>=0.1.46->langchain-openai==0.1.6) (2.1)\n",
      "Requirement already satisfied: orjson<4.0.0,>=3.9.14 in c:\\users\\gs\\anaconda3\\lib\\site-packages (from langsmith<0.2.0,>=0.1.0->langchain-core<0.2.0,>=0.1.46->langchain-openai==0.1.6) (3.10.3)\n",
      "Requirement already satisfied: charset-normalizer<4,>=2 in c:\\users\\gs\\anaconda3\\lib\\site-packages (from requests>=2.26.0->tiktoken<1,>=0.5.2->langchain-openai==0.1.6) (2.0.4)\n",
      "Requirement already satisfied: urllib3<3,>=1.21.1 in c:\\users\\gs\\anaconda3\\lib\\site-packages (from requests>=2.26.0->tiktoken<1,>=0.5.2->langchain-openai==0.1.6) (1.26.16)\n",
      "Requirement already satisfied: colorama in c:\\users\\gs\\anaconda3\\lib\\site-packages (from tqdm>4->openai<2.0.0,>=1.24.0->langchain-openai==0.1.6) (0.4.6)\n",
      "Using cached langchain_openai-0.1.6-py3-none-any.whl (34 kB)\n",
      "Installing collected packages: langchain-openai\n",
      "  Attempting uninstall: langchain-openai\n",
      "    Found existing installation: langchain-openai 0.1.22\n",
      "    Uninstalling langchain-openai-0.1.22:\n",
      "      Successfully uninstalled langchain-openai-0.1.22\n",
      "Successfully installed langchain-openai-0.1.6\n",
      "Requirement already satisfied: langchain-pinecone==0.1.0 in c:\\users\\gs\\anaconda3\\lib\\site-packages (0.1.0)\n",
      "Requirement already satisfied: langchain-core<0.2.0,>=0.1.40 in c:\\users\\gs\\anaconda3\\lib\\site-packages (from langchain-pinecone==0.1.0) (0.1.52)\n",
      "Requirement already satisfied: numpy<2,>=1 in c:\\users\\gs\\anaconda3\\lib\\site-packages (from langchain-pinecone==0.1.0) (1.24.3)\n",
      "Collecting pinecone-client<4.0.0,>=3.2.2 (from langchain-pinecone==0.1.0)\n",
      "  Obtaining dependency information for pinecone-client<4.0.0,>=3.2.2 from https://files.pythonhosted.org/packages/cb/bb/c51fa42d85f431b3b3ec4c35a13a8bb99cafc0671918139a48767421d354/pinecone_client-3.2.2-py3-none-any.whl.metadata\n",
      "  Using cached pinecone_client-3.2.2-py3-none-any.whl.metadata (16 kB)\n",
      "Requirement already satisfied: PyYAML>=5.3 in c:\\users\\gs\\anaconda3\\lib\\site-packages (from langchain-core<0.2.0,>=0.1.40->langchain-pinecone==0.1.0) (6.0)\n",
      "Requirement already satisfied: jsonpatch<2.0,>=1.33 in c:\\users\\gs\\anaconda3\\lib\\site-packages (from langchain-core<0.2.0,>=0.1.40->langchain-pinecone==0.1.0) (1.33)\n",
      "Requirement already satisfied: langsmith<0.2.0,>=0.1.0 in c:\\users\\gs\\anaconda3\\lib\\site-packages (from langchain-core<0.2.0,>=0.1.40->langchain-pinecone==0.1.0) (0.1.75)\n",
      "Requirement already satisfied: packaging<24.0,>=23.2 in c:\\users\\gs\\anaconda3\\lib\\site-packages (from langchain-core<0.2.0,>=0.1.40->langchain-pinecone==0.1.0) (23.2)\n",
      "Requirement already satisfied: pydantic<3,>=1 in c:\\users\\gs\\anaconda3\\lib\\site-packages (from langchain-core<0.2.0,>=0.1.40->langchain-pinecone==0.1.0) (1.10.8)\n",
      "Requirement already satisfied: tenacity<9.0.0,>=8.1.0 in c:\\users\\gs\\anaconda3\\lib\\site-packages (from langchain-core<0.2.0,>=0.1.40->langchain-pinecone==0.1.0) (8.2.2)\n",
      "Requirement already satisfied: certifi>=2019.11.17 in c:\\users\\gs\\anaconda3\\lib\\site-packages (from pinecone-client<4.0.0,>=3.2.2->langchain-pinecone==0.1.0) (2024.2.2)\n",
      "Requirement already satisfied: tqdm>=4.64.1 in c:\\users\\gs\\anaconda3\\lib\\site-packages (from pinecone-client<4.0.0,>=3.2.2->langchain-pinecone==0.1.0) (4.65.0)\n",
      "Requirement already satisfied: typing-extensions>=3.7.4 in c:\\users\\gs\\anaconda3\\lib\\site-packages (from pinecone-client<4.0.0,>=3.2.2->langchain-pinecone==0.1.0) (4.11.0)\n",
      "Requirement already satisfied: urllib3>=1.26.0 in c:\\users\\gs\\anaconda3\\lib\\site-packages (from pinecone-client<4.0.0,>=3.2.2->langchain-pinecone==0.1.0) (1.26.16)\n",
      "Requirement already satisfied: jsonpointer>=1.9 in c:\\users\\gs\\anaconda3\\lib\\site-packages (from jsonpatch<2.0,>=1.33->langchain-core<0.2.0,>=0.1.40->langchain-pinecone==0.1.0) (2.1)\n",
      "Requirement already satisfied: orjson<4.0.0,>=3.9.14 in c:\\users\\gs\\anaconda3\\lib\\site-packages (from langsmith<0.2.0,>=0.1.0->langchain-core<0.2.0,>=0.1.40->langchain-pinecone==0.1.0) (3.10.3)\n",
      "Requirement already satisfied: requests<3,>=2 in c:\\users\\gs\\anaconda3\\lib\\site-packages (from langsmith<0.2.0,>=0.1.0->langchain-core<0.2.0,>=0.1.40->langchain-pinecone==0.1.0) (2.31.0)\n",
      "Requirement already satisfied: colorama in c:\\users\\gs\\anaconda3\\lib\\site-packages (from tqdm>=4.64.1->pinecone-client<4.0.0,>=3.2.2->langchain-pinecone==0.1.0) (0.4.6)\n",
      "Requirement already satisfied: charset-normalizer<4,>=2 in c:\\users\\gs\\anaconda3\\lib\\site-packages (from requests<3,>=2->langsmith<0.2.0,>=0.1.0->langchain-core<0.2.0,>=0.1.40->langchain-pinecone==0.1.0) (2.0.4)\n",
      "Requirement already satisfied: idna<4,>=2.5 in c:\\users\\gs\\anaconda3\\lib\\site-packages (from requests<3,>=2->langsmith<0.2.0,>=0.1.0->langchain-core<0.2.0,>=0.1.40->langchain-pinecone==0.1.0) (3.4)\n",
      "Using cached pinecone_client-3.2.2-py3-none-any.whl (215 kB)\n",
      "Installing collected packages: pinecone-client\n",
      "  Attempting uninstall: pinecone-client\n",
      "    Found existing installation: pinecone-client 4.0.0\n",
      "    Uninstalling pinecone-client-4.0.0:\n",
      "      Successfully uninstalled pinecone-client-4.0.0\n",
      "Successfully installed pinecone-client-3.2.2\n",
      "Requirement already satisfied: tiktoken==0.7.0 in c:\\users\\gs\\anaconda3\\lib\\site-packages (0.7.0)\n",
      "Requirement already satisfied: regex>=2022.1.18 in c:\\users\\gs\\anaconda3\\lib\\site-packages (from tiktoken==0.7.0) (2022.7.9)\n",
      "Requirement already satisfied: requests>=2.26.0 in c:\\users\\gs\\anaconda3\\lib\\site-packages (from tiktoken==0.7.0) (2.31.0)\n",
      "Requirement already satisfied: charset-normalizer<4,>=2 in c:\\users\\gs\\anaconda3\\lib\\site-packages (from requests>=2.26.0->tiktoken==0.7.0) (2.0.4)\n",
      "Requirement already satisfied: idna<4,>=2.5 in c:\\users\\gs\\anaconda3\\lib\\site-packages (from requests>=2.26.0->tiktoken==0.7.0) (3.4)\n",
      "Requirement already satisfied: urllib3<3,>=1.21.1 in c:\\users\\gs\\anaconda3\\lib\\site-packages (from requests>=2.26.0->tiktoken==0.7.0) (1.26.16)\n",
      "Requirement already satisfied: certifi>=2017.4.17 in c:\\users\\gs\\anaconda3\\lib\\site-packages (from requests>=2.26.0->tiktoken==0.7.0) (2024.2.2)\n",
      "Requirement already satisfied: typing_extensions==4.11.0 in c:\\users\\gs\\anaconda3\\lib\\site-packages (4.11.0)\n"
     ]
    }
   ],
   "source": [
    "# Install the openai package, locked to version 1.27\n",
    "!pip install openai==1.27\n",
    "\n",
    "# Install the pinecone-client package, locked to version 4.0.0\n",
    "!pip install pinecone-client==4.0.0\n",
    "\n",
    "# Install the langchain package, locked to version 0.1.19\n",
    "!pip install langchain==0.1.19\n",
    "\n",
    "# Install the langchain-openai package, locked to version 0.1.6\n",
    "!pip install langchain-openai==0.1.6\n",
    "\n",
    "# Update the langchain-pinecone package, locked to version 0.1.0\n",
    "!pip install langchain-pinecone==0.1.0\n",
    "\n",
    "# Update the tiktoken package, locked to version 0.7.0\n",
    "!pip install tiktoken==0.7.0\n",
    "\n",
    "# Update the typing_extensions package, locked to version 4.11.0\n",
    "!pip install typing_extensions==4.11.0"
   ]
  },
  {
   "cell_type": "markdown",
   "id": "ca566c07",
   "metadata": {},
   "source": [
    "Task 1: Import the Movies Data"
   ]
  },
  {
   "cell_type": "code",
   "execution_count": 3,
   "id": "bd10d002",
   "metadata": {},
   "outputs": [],
   "source": [
    "import pandas as pd\n",
    "import numpy as np"
   ]
  },
  {
   "cell_type": "code",
   "execution_count": 4,
   "id": "cd886296",
   "metadata": {},
   "outputs": [],
   "source": [
    "df = pd.read_csv('C:/Users/GS/OneDrive/Desktop/Project Publisher LLM/Publishers.csv', encoding='ISO-8859-1')"
   ]
  },
  {
   "cell_type": "code",
   "execution_count": 5,
   "id": "f1cfa673",
   "metadata": {},
   "outputs": [
    {
     "data": {
      "text/html": [
       "<div>\n",
       "<style scoped>\n",
       "    .dataframe tbody tr th:only-of-type {\n",
       "        vertical-align: middle;\n",
       "    }\n",
       "\n",
       "    .dataframe tbody tr th {\n",
       "        vertical-align: top;\n",
       "    }\n",
       "\n",
       "    .dataframe thead th {\n",
       "        text-align: right;\n",
       "    }\n",
       "</style>\n",
       "<table border=\"1\" class=\"dataframe\">\n",
       "  <thead>\n",
       "    <tr style=\"text-align: right;\">\n",
       "      <th></th>\n",
       "      <th>Publisher</th>\n",
       "      <th>Book Title</th>\n",
       "      <th>Price</th>\n",
       "      <th>Link</th>\n",
       "    </tr>\n",
       "  </thead>\n",
       "  <tbody>\n",
       "    <tr>\n",
       "      <th>0</th>\n",
       "      <td>Paramount</td>\n",
       "      <td>CAMBRIDGE LOWER SECONDARY COMPUTING LEARNERS ...</td>\n",
       "      <td>5545</td>\n",
       "      <td>https://paramountbooks.com.pk/product/cambridg...</td>\n",
       "    </tr>\n",
       "    <tr>\n",
       "      <th>1</th>\n",
       "      <td>Paramount</td>\n",
       "      <td>CAMBRIDGE INTERNATIONAL AS LEVEL ENVIRONMENTAL...</td>\n",
       "      <td>8425</td>\n",
       "      <td>https://paramountbooks.com.pk/product/cambridg...</td>\n",
       "    </tr>\n",
       "    <tr>\n",
       "      <th>2</th>\n",
       "      <td>Paramount</td>\n",
       "      <td>1000 THINGS TO EAT</td>\n",
       "      <td>2995</td>\n",
       "      <td>https://paramountbooks.com.pk/product/1000-thi...</td>\n",
       "    </tr>\n",
       "    <tr>\n",
       "      <th>3</th>\n",
       "      <td>Paramount</td>\n",
       "      <td>100 THINGS TO KNOW ABOUT SAVING THE PLANET</td>\n",
       "      <td>2995</td>\n",
       "      <td>https://paramountbooks.com.pk/product/100-thin...</td>\n",
       "    </tr>\n",
       "    <tr>\n",
       "      <th>4</th>\n",
       "      <td>Paramount</td>\n",
       "      <td>1000 THINGS THAT GO</td>\n",
       "      <td>2995</td>\n",
       "      <td>https://paramountbooks.com.pk/product/1000-thi...</td>\n",
       "    </tr>\n",
       "    <tr>\n",
       "      <th>...</th>\n",
       "      <td>...</td>\n",
       "      <td>...</td>\n",
       "      <td>...</td>\n",
       "      <td>...</td>\n",
       "    </tr>\n",
       "    <tr>\n",
       "      <th>8659</th>\n",
       "      <td>Afaq</td>\n",
       "      <td>English Beginner-B Ages 5-6 Rhyme</td>\n",
       "      <td>345</td>\n",
       "      <td>https://afaq.edu.pk/product/english-beginner-b...</td>\n",
       "    </tr>\n",
       "    <tr>\n",
       "      <th>8660</th>\n",
       "      <td>Afaq</td>\n",
       "      <td>Math Beginner</td>\n",
       "      <td>395</td>\n",
       "      <td>https://afaq.edu.pk/product/math-beginner/</td>\n",
       "    </tr>\n",
       "    <tr>\n",
       "      <th>8661</th>\n",
       "      <td>Afaq</td>\n",
       "      <td>Social Studies Beginner</td>\n",
       "      <td>435</td>\n",
       "      <td>https://afaq.edu.pk/product/social-studies-beg...</td>\n",
       "    </tr>\n",
       "    <tr>\n",
       "      <th>8662</th>\n",
       "      <td>Afaq</td>\n",
       "      <td>Maloomat e Aama : General Knowledge UM 1</td>\n",
       "      <td>475</td>\n",
       "      <td>https://afaq.edu.pk/product/general-knowledge-...</td>\n",
       "    </tr>\n",
       "    <tr>\n",
       "      <th>8663</th>\n",
       "      <td>Afaq</td>\n",
       "      <td>Mutalia-e-Islam 1</td>\n",
       "      <td>495</td>\n",
       "      <td>https://afaq.edu.pk/product/mutalia-e-islam-1/</td>\n",
       "    </tr>\n",
       "  </tbody>\n",
       "</table>\n",
       "<p>8664 rows × 4 columns</p>\n",
       "</div>"
      ],
      "text/plain": [
       "      Publisher                                         Book Title  Price  \\\n",
       "0     Paramount  CAMBRIDGE LOWER SECONDARY COMPUTING LEARNERS ...   5545   \n",
       "1     Paramount  CAMBRIDGE INTERNATIONAL AS LEVEL ENVIRONMENTAL...   8425   \n",
       "2     Paramount                                 1000 THINGS TO EAT   2995   \n",
       "3     Paramount         100 THINGS TO KNOW ABOUT SAVING THE PLANET   2995   \n",
       "4     Paramount                                1000 THINGS THAT GO   2995   \n",
       "...         ...                                                ...    ...   \n",
       "8659       Afaq                  English Beginner-B Ages 5-6 Rhyme    345   \n",
       "8660       Afaq                                      Math Beginner    395   \n",
       "8661       Afaq                            Social Studies Beginner    435   \n",
       "8662       Afaq           Maloomat e Aama : General Knowledge UM 1    475   \n",
       "8663       Afaq                                  Mutalia-e-Islam 1    495   \n",
       "\n",
       "                                                   Link  \n",
       "0     https://paramountbooks.com.pk/product/cambridg...  \n",
       "1     https://paramountbooks.com.pk/product/cambridg...  \n",
       "2     https://paramountbooks.com.pk/product/1000-thi...  \n",
       "3     https://paramountbooks.com.pk/product/100-thin...  \n",
       "4     https://paramountbooks.com.pk/product/1000-thi...  \n",
       "...                                                 ...  \n",
       "8659  https://afaq.edu.pk/product/english-beginner-b...  \n",
       "8660         https://afaq.edu.pk/product/math-beginner/  \n",
       "8661  https://afaq.edu.pk/product/social-studies-beg...  \n",
       "8662  https://afaq.edu.pk/product/general-knowledge-...  \n",
       "8663     https://afaq.edu.pk/product/mutalia-e-islam-1/  \n",
       "\n",
       "[8664 rows x 4 columns]"
      ]
     },
     "execution_count": 5,
     "metadata": {},
     "output_type": "execute_result"
    }
   ],
   "source": [
    "df"
   ]
  },
  {
   "cell_type": "code",
   "execution_count": 6,
   "id": "b2473f48",
   "metadata": {},
   "outputs": [
    {
     "data": {
      "text/plain": [
       "array(['Paramount', 'Gaba', 'Afaq'], dtype=object)"
      ]
     },
     "execution_count": 6,
     "metadata": {},
     "output_type": "execute_result"
    }
   ],
   "source": [
    "df['Publisher'].unique()"
   ]
  },
  {
   "cell_type": "code",
   "execution_count": 7,
   "id": "e1e2cd57",
   "metadata": {},
   "outputs": [],
   "source": [
    "df=df.rename(columns={\n",
    "    \"Book Title\":\"Book_Title\"})"
   ]
  },
  {
   "cell_type": "code",
   "execution_count": 8,
   "id": "c01b8cba",
   "metadata": {},
   "outputs": [
    {
     "data": {
      "text/html": [
       "<div>\n",
       "<style scoped>\n",
       "    .dataframe tbody tr th:only-of-type {\n",
       "        vertical-align: middle;\n",
       "    }\n",
       "\n",
       "    .dataframe tbody tr th {\n",
       "        vertical-align: top;\n",
       "    }\n",
       "\n",
       "    .dataframe thead th {\n",
       "        text-align: right;\n",
       "    }\n",
       "</style>\n",
       "<table border=\"1\" class=\"dataframe\">\n",
       "  <thead>\n",
       "    <tr style=\"text-align: right;\">\n",
       "      <th></th>\n",
       "      <th>Publisher</th>\n",
       "      <th>Book_Title</th>\n",
       "      <th>Price</th>\n",
       "      <th>Link</th>\n",
       "    </tr>\n",
       "  </thead>\n",
       "  <tbody>\n",
       "    <tr>\n",
       "      <th>0</th>\n",
       "      <td>Paramount</td>\n",
       "      <td>CAMBRIDGE LOWER SECONDARY COMPUTING LEARNERS ...</td>\n",
       "      <td>5545</td>\n",
       "      <td>https://paramountbooks.com.pk/product/cambridg...</td>\n",
       "    </tr>\n",
       "    <tr>\n",
       "      <th>1</th>\n",
       "      <td>Paramount</td>\n",
       "      <td>CAMBRIDGE INTERNATIONAL AS LEVEL ENVIRONMENTAL...</td>\n",
       "      <td>8425</td>\n",
       "      <td>https://paramountbooks.com.pk/product/cambridg...</td>\n",
       "    </tr>\n",
       "    <tr>\n",
       "      <th>2</th>\n",
       "      <td>Paramount</td>\n",
       "      <td>1000 THINGS TO EAT</td>\n",
       "      <td>2995</td>\n",
       "      <td>https://paramountbooks.com.pk/product/1000-thi...</td>\n",
       "    </tr>\n",
       "    <tr>\n",
       "      <th>3</th>\n",
       "      <td>Paramount</td>\n",
       "      <td>100 THINGS TO KNOW ABOUT SAVING THE PLANET</td>\n",
       "      <td>2995</td>\n",
       "      <td>https://paramountbooks.com.pk/product/100-thin...</td>\n",
       "    </tr>\n",
       "    <tr>\n",
       "      <th>4</th>\n",
       "      <td>Paramount</td>\n",
       "      <td>1000 THINGS THAT GO</td>\n",
       "      <td>2995</td>\n",
       "      <td>https://paramountbooks.com.pk/product/1000-thi...</td>\n",
       "    </tr>\n",
       "    <tr>\n",
       "      <th>...</th>\n",
       "      <td>...</td>\n",
       "      <td>...</td>\n",
       "      <td>...</td>\n",
       "      <td>...</td>\n",
       "    </tr>\n",
       "    <tr>\n",
       "      <th>8659</th>\n",
       "      <td>Afaq</td>\n",
       "      <td>English Beginner-B Ages 5-6 Rhyme</td>\n",
       "      <td>345</td>\n",
       "      <td>https://afaq.edu.pk/product/english-beginner-b...</td>\n",
       "    </tr>\n",
       "    <tr>\n",
       "      <th>8660</th>\n",
       "      <td>Afaq</td>\n",
       "      <td>Math Beginner</td>\n",
       "      <td>395</td>\n",
       "      <td>https://afaq.edu.pk/product/math-beginner/</td>\n",
       "    </tr>\n",
       "    <tr>\n",
       "      <th>8661</th>\n",
       "      <td>Afaq</td>\n",
       "      <td>Social Studies Beginner</td>\n",
       "      <td>435</td>\n",
       "      <td>https://afaq.edu.pk/product/social-studies-beg...</td>\n",
       "    </tr>\n",
       "    <tr>\n",
       "      <th>8662</th>\n",
       "      <td>Afaq</td>\n",
       "      <td>Maloomat e Aama : General Knowledge UM 1</td>\n",
       "      <td>475</td>\n",
       "      <td>https://afaq.edu.pk/product/general-knowledge-...</td>\n",
       "    </tr>\n",
       "    <tr>\n",
       "      <th>8663</th>\n",
       "      <td>Afaq</td>\n",
       "      <td>Mutalia-e-Islam 1</td>\n",
       "      <td>495</td>\n",
       "      <td>https://afaq.edu.pk/product/mutalia-e-islam-1/</td>\n",
       "    </tr>\n",
       "  </tbody>\n",
       "</table>\n",
       "<p>8664 rows × 4 columns</p>\n",
       "</div>"
      ],
      "text/plain": [
       "      Publisher                                         Book_Title  Price  \\\n",
       "0     Paramount  CAMBRIDGE LOWER SECONDARY COMPUTING LEARNERS ...   5545   \n",
       "1     Paramount  CAMBRIDGE INTERNATIONAL AS LEVEL ENVIRONMENTAL...   8425   \n",
       "2     Paramount                                 1000 THINGS TO EAT   2995   \n",
       "3     Paramount         100 THINGS TO KNOW ABOUT SAVING THE PLANET   2995   \n",
       "4     Paramount                                1000 THINGS THAT GO   2995   \n",
       "...         ...                                                ...    ...   \n",
       "8659       Afaq                  English Beginner-B Ages 5-6 Rhyme    345   \n",
       "8660       Afaq                                      Math Beginner    395   \n",
       "8661       Afaq                            Social Studies Beginner    435   \n",
       "8662       Afaq           Maloomat e Aama : General Knowledge UM 1    475   \n",
       "8663       Afaq                                  Mutalia-e-Islam 1    495   \n",
       "\n",
       "                                                   Link  \n",
       "0     https://paramountbooks.com.pk/product/cambridg...  \n",
       "1     https://paramountbooks.com.pk/product/cambridg...  \n",
       "2     https://paramountbooks.com.pk/product/1000-thi...  \n",
       "3     https://paramountbooks.com.pk/product/100-thin...  \n",
       "4     https://paramountbooks.com.pk/product/1000-thi...  \n",
       "...                                                 ...  \n",
       "8659  https://afaq.edu.pk/product/english-beginner-b...  \n",
       "8660         https://afaq.edu.pk/product/math-beginner/  \n",
       "8661  https://afaq.edu.pk/product/social-studies-beg...  \n",
       "8662  https://afaq.edu.pk/product/general-knowledge-...  \n",
       "8663     https://afaq.edu.pk/product/mutalia-e-islam-1/  \n",
       "\n",
       "[8664 rows x 4 columns]"
      ]
     },
     "execution_count": 8,
     "metadata": {},
     "output_type": "execute_result"
    }
   ],
   "source": [
    "df"
   ]
  },
  {
   "cell_type": "markdown",
   "id": "ba44352c",
   "metadata": {},
   "source": [
    "Task 2: Create Documents from the Data"
   ]
  },
  {
   "cell_type": "code",
   "execution_count": 55,
   "id": "30db9d37",
   "metadata": {},
   "outputs": [
    {
     "name": "stdout",
     "output_type": "stream",
     "text": [
      "Requirement already satisfied: langchain==0.1.19 in c:\\users\\gs\\anaconda3\\lib\\site-packages (0.1.19)\n",
      "Requirement already satisfied: PyYAML>=5.3 in c:\\users\\gs\\anaconda3\\lib\\site-packages (from langchain==0.1.19) (6.0)\n",
      "Requirement already satisfied: SQLAlchemy<3,>=1.4 in c:\\users\\gs\\anaconda3\\lib\\site-packages (from langchain==0.1.19) (2.0.23)\n",
      "Requirement already satisfied: aiohttp<4.0.0,>=3.8.3 in c:\\users\\gs\\anaconda3\\lib\\site-packages (from langchain==0.1.19) (3.8.5)\n",
      "Requirement already satisfied: dataclasses-json<0.7,>=0.5.7 in c:\\users\\gs\\anaconda3\\lib\\site-packages (from langchain==0.1.19) (0.5.14)\n",
      "Requirement already satisfied: langchain-community<0.1,>=0.0.38 in c:\\users\\gs\\anaconda3\\lib\\site-packages (from langchain==0.1.19) (0.0.38)\n",
      "Collecting langchain-core<0.2.0,>=0.1.52 (from langchain==0.1.19)\n",
      "  Obtaining dependency information for langchain-core<0.2.0,>=0.1.52 from https://files.pythonhosted.org/packages/43/8b/48b7e6de9041d2b33d5108e154b82d1bd6c47cc68f0e44cb4fcdaccf5ec7/langchain_core-0.1.52-py3-none-any.whl.metadata\n",
      "  Using cached langchain_core-0.1.52-py3-none-any.whl.metadata (5.9 kB)\n",
      "Requirement already satisfied: langchain-text-splitters<0.1,>=0.0.1 in c:\\users\\gs\\anaconda3\\lib\\site-packages (from langchain==0.1.19) (0.0.2)\n",
      "Requirement already satisfied: langsmith<0.2.0,>=0.1.17 in c:\\users\\gs\\anaconda3\\lib\\site-packages (from langchain==0.1.19) (0.1.75)\n",
      "Requirement already satisfied: numpy<2,>=1 in c:\\users\\gs\\anaconda3\\lib\\site-packages (from langchain==0.1.19) (1.24.3)\n",
      "Requirement already satisfied: pydantic<3,>=1 in c:\\users\\gs\\anaconda3\\lib\\site-packages (from langchain==0.1.19) (1.10.8)\n",
      "Requirement already satisfied: requests<3,>=2 in c:\\users\\gs\\anaconda3\\lib\\site-packages (from langchain==0.1.19) (2.31.0)\n",
      "Requirement already satisfied: tenacity<9.0.0,>=8.1.0 in c:\\users\\gs\\anaconda3\\lib\\site-packages (from langchain==0.1.19) (8.2.2)\n",
      "Requirement already satisfied: attrs>=17.3.0 in c:\\users\\gs\\anaconda3\\lib\\site-packages (from aiohttp<4.0.0,>=3.8.3->langchain==0.1.19) (24.2.0)\n",
      "Requirement already satisfied: charset-normalizer<4.0,>=2.0 in c:\\users\\gs\\anaconda3\\lib\\site-packages (from aiohttp<4.0.0,>=3.8.3->langchain==0.1.19) (2.0.4)\n",
      "Requirement already satisfied: multidict<7.0,>=4.5 in c:\\users\\gs\\anaconda3\\lib\\site-packages (from aiohttp<4.0.0,>=3.8.3->langchain==0.1.19) (6.0.2)\n",
      "Requirement already satisfied: async-timeout<5.0,>=4.0.0a3 in c:\\users\\gs\\anaconda3\\lib\\site-packages (from aiohttp<4.0.0,>=3.8.3->langchain==0.1.19) (4.0.2)\n",
      "Requirement already satisfied: yarl<2.0,>=1.0 in c:\\users\\gs\\anaconda3\\lib\\site-packages (from aiohttp<4.0.0,>=3.8.3->langchain==0.1.19) (1.8.1)\n",
      "Requirement already satisfied: frozenlist>=1.1.1 in c:\\users\\gs\\anaconda3\\lib\\site-packages (from aiohttp<4.0.0,>=3.8.3->langchain==0.1.19) (1.3.3)\n",
      "Requirement already satisfied: aiosignal>=1.1.2 in c:\\users\\gs\\anaconda3\\lib\\site-packages (from aiohttp<4.0.0,>=3.8.3->langchain==0.1.19) (1.2.0)\n",
      "Requirement already satisfied: marshmallow<4.0.0,>=3.18.0 in c:\\users\\gs\\anaconda3\\lib\\site-packages (from dataclasses-json<0.7,>=0.5.7->langchain==0.1.19) (3.21.3)\n",
      "Requirement already satisfied: typing-inspect<1,>=0.4.0 in c:\\users\\gs\\anaconda3\\lib\\site-packages (from dataclasses-json<0.7,>=0.5.7->langchain==0.1.19) (0.9.0)\n",
      "Requirement already satisfied: jsonpatch<2.0,>=1.33 in c:\\users\\gs\\anaconda3\\lib\\site-packages (from langchain-core<0.2.0,>=0.1.52->langchain==0.1.19) (1.33)\n",
      "Requirement already satisfied: packaging<24.0,>=23.2 in c:\\users\\gs\\anaconda3\\lib\\site-packages (from langchain-core<0.2.0,>=0.1.52->langchain==0.1.19) (23.2)\n",
      "Requirement already satisfied: orjson<4.0.0,>=3.9.14 in c:\\users\\gs\\anaconda3\\lib\\site-packages (from langsmith<0.2.0,>=0.1.17->langchain==0.1.19) (3.10.3)\n",
      "Requirement already satisfied: typing-extensions>=4.2.0 in c:\\users\\gs\\anaconda3\\lib\\site-packages (from pydantic<3,>=1->langchain==0.1.19) (4.11.0)\n",
      "Requirement already satisfied: idna<4,>=2.5 in c:\\users\\gs\\anaconda3\\lib\\site-packages (from requests<3,>=2->langchain==0.1.19) (3.4)\n",
      "Requirement already satisfied: urllib3<3,>=1.21.1 in c:\\users\\gs\\anaconda3\\lib\\site-packages (from requests<3,>=2->langchain==0.1.19) (1.26.16)\n",
      "Requirement already satisfied: certifi>=2017.4.17 in c:\\users\\gs\\anaconda3\\lib\\site-packages (from requests<3,>=2->langchain==0.1.19) (2024.2.2)\n",
      "Requirement already satisfied: greenlet!=0.4.17 in c:\\users\\gs\\anaconda3\\lib\\site-packages (from SQLAlchemy<3,>=1.4->langchain==0.1.19) (2.0.1)\n",
      "Requirement already satisfied: jsonpointer>=1.9 in c:\\users\\gs\\anaconda3\\lib\\site-packages (from jsonpatch<2.0,>=1.33->langchain-core<0.2.0,>=0.1.52->langchain==0.1.19) (2.1)\n",
      "Requirement already satisfied: mypy-extensions>=0.3.0 in c:\\users\\gs\\anaconda3\\lib\\site-packages (from typing-inspect<1,>=0.4.0->dataclasses-json<0.7,>=0.5.7->langchain==0.1.19) (1.0.0)\n",
      "Using cached langchain_core-0.1.52-py3-none-any.whl (302 kB)\n",
      "Installing collected packages: langchain-core\n",
      "  Attempting uninstall: langchain-core\n",
      "    Found existing installation: langchain-core 0.2.37\n",
      "    Uninstalling langchain-core-0.2.37:\n",
      "      Successfully uninstalled langchain-core-0.2.37\n",
      "Successfully installed langchain-core-0.1.52\n"
     ]
    },
    {
     "name": "stderr",
     "output_type": "stream",
     "text": [
      "ERROR: pip's dependency resolver does not currently take into account all the packages that are installed. This behaviour is the source of the following dependency conflicts.\n",
      "langchain-openai 0.1.23 requires langchain-core<0.3.0,>=0.2.35, but you have langchain-core 0.1.52 which is incompatible.\n"
     ]
    }
   ],
   "source": [
    "#import dataframe loader\n",
    "!pip install langchain==0.1.19\n",
    "from langchain.document_loaders import DataFrameLoader"
   ]
  },
  {
   "cell_type": "code",
   "execution_count": 11,
   "id": "7b7f340f",
   "metadata": {},
   "outputs": [],
   "source": [
    "df[\"Page_content\"] = \"Title: \" + df[\"Book_Title\"] + \"\\n\" + \\\n",
    "                     \"Publisher: \" + df[\"Publisher\"] + \"\\n\" + \\\n",
    "                     \"Price: \" + df[\"Price\"].astype(str)\n"
   ]
  },
  {
   "cell_type": "code",
   "execution_count": 12,
   "id": "97308c29",
   "metadata": {},
   "outputs": [
    {
     "name": "stdout",
     "output_type": "stream",
     "text": [
      "Title: CAMBRIDGE LOWER SECONDARY COMPUTING LEARNERS BOOK 9 WITH DIGITAL ACCESS (1 YEAR)\n",
      "Publisher: Paramount\n",
      "Price: 5545\n"
     ]
    }
   ],
   "source": [
    "print(df[\"Page_content\"].iloc[0])"
   ]
  },
  {
   "cell_type": "code",
   "execution_count": 13,
   "id": "f2aa6f56",
   "metadata": {},
   "outputs": [],
   "source": [
    "df1=df[[\"Page_content\",\"Link\"]]"
   ]
  },
  {
   "cell_type": "code",
   "execution_count": 14,
   "id": "0f444e73",
   "metadata": {},
   "outputs": [
    {
     "data": {
      "text/html": [
       "<div>\n",
       "<style scoped>\n",
       "    .dataframe tbody tr th:only-of-type {\n",
       "        vertical-align: middle;\n",
       "    }\n",
       "\n",
       "    .dataframe tbody tr th {\n",
       "        vertical-align: top;\n",
       "    }\n",
       "\n",
       "    .dataframe thead th {\n",
       "        text-align: right;\n",
       "    }\n",
       "</style>\n",
       "<table border=\"1\" class=\"dataframe\">\n",
       "  <thead>\n",
       "    <tr style=\"text-align: right;\">\n",
       "      <th></th>\n",
       "      <th>Page_content</th>\n",
       "      <th>Link</th>\n",
       "    </tr>\n",
       "  </thead>\n",
       "  <tbody>\n",
       "    <tr>\n",
       "      <th>0</th>\n",
       "      <td>Title: CAMBRIDGE LOWER SECONDARY COMPUTING LEA...</td>\n",
       "      <td>https://paramountbooks.com.pk/product/cambridg...</td>\n",
       "    </tr>\n",
       "    <tr>\n",
       "      <th>1</th>\n",
       "      <td>Title: CAMBRIDGE INTERNATIONAL AS LEVEL ENVIRO...</td>\n",
       "      <td>https://paramountbooks.com.pk/product/cambridg...</td>\n",
       "    </tr>\n",
       "    <tr>\n",
       "      <th>2</th>\n",
       "      <td>Title: 1000 THINGS TO EAT\\nPublisher: Paramoun...</td>\n",
       "      <td>https://paramountbooks.com.pk/product/1000-thi...</td>\n",
       "    </tr>\n",
       "    <tr>\n",
       "      <th>3</th>\n",
       "      <td>Title: 100 THINGS TO KNOW ABOUT SAVING THE PLA...</td>\n",
       "      <td>https://paramountbooks.com.pk/product/100-thin...</td>\n",
       "    </tr>\n",
       "    <tr>\n",
       "      <th>4</th>\n",
       "      <td>Title: 1000 THINGS THAT GO\\nPublisher: Paramou...</td>\n",
       "      <td>https://paramountbooks.com.pk/product/1000-thi...</td>\n",
       "    </tr>\n",
       "    <tr>\n",
       "      <th>...</th>\n",
       "      <td>...</td>\n",
       "      <td>...</td>\n",
       "    </tr>\n",
       "    <tr>\n",
       "      <th>8659</th>\n",
       "      <td>Title: English Beginner-B Ages 5-6 Rhyme\\nPubl...</td>\n",
       "      <td>https://afaq.edu.pk/product/english-beginner-b...</td>\n",
       "    </tr>\n",
       "    <tr>\n",
       "      <th>8660</th>\n",
       "      <td>Title: Math Beginner\\nPublisher: Afaq\\nPrice: 395</td>\n",
       "      <td>https://afaq.edu.pk/product/math-beginner/</td>\n",
       "    </tr>\n",
       "    <tr>\n",
       "      <th>8661</th>\n",
       "      <td>Title: Social Studies Beginner\\nPublisher: Afa...</td>\n",
       "      <td>https://afaq.edu.pk/product/social-studies-beg...</td>\n",
       "    </tr>\n",
       "    <tr>\n",
       "      <th>8662</th>\n",
       "      <td>Title: Maloomat e Aama : General Knowledge UM ...</td>\n",
       "      <td>https://afaq.edu.pk/product/general-knowledge-...</td>\n",
       "    </tr>\n",
       "    <tr>\n",
       "      <th>8663</th>\n",
       "      <td>Title: Mutalia-e-Islam 1\\nPublisher: Afaq\\nPri...</td>\n",
       "      <td>https://afaq.edu.pk/product/mutalia-e-islam-1/</td>\n",
       "    </tr>\n",
       "  </tbody>\n",
       "</table>\n",
       "<p>8664 rows × 2 columns</p>\n",
       "</div>"
      ],
      "text/plain": [
       "                                           Page_content  \\\n",
       "0     Title: CAMBRIDGE LOWER SECONDARY COMPUTING LEA...   \n",
       "1     Title: CAMBRIDGE INTERNATIONAL AS LEVEL ENVIRO...   \n",
       "2     Title: 1000 THINGS TO EAT\\nPublisher: Paramoun...   \n",
       "3     Title: 100 THINGS TO KNOW ABOUT SAVING THE PLA...   \n",
       "4     Title: 1000 THINGS THAT GO\\nPublisher: Paramou...   \n",
       "...                                                 ...   \n",
       "8659  Title: English Beginner-B Ages 5-6 Rhyme\\nPubl...   \n",
       "8660  Title: Math Beginner\\nPublisher: Afaq\\nPrice: 395   \n",
       "8661  Title: Social Studies Beginner\\nPublisher: Afa...   \n",
       "8662  Title: Maloomat e Aama : General Knowledge UM ...   \n",
       "8663  Title: Mutalia-e-Islam 1\\nPublisher: Afaq\\nPri...   \n",
       "\n",
       "                                                   Link  \n",
       "0     https://paramountbooks.com.pk/product/cambridg...  \n",
       "1     https://paramountbooks.com.pk/product/cambridg...  \n",
       "2     https://paramountbooks.com.pk/product/1000-thi...  \n",
       "3     https://paramountbooks.com.pk/product/100-thin...  \n",
       "4     https://paramountbooks.com.pk/product/1000-thi...  \n",
       "...                                                 ...  \n",
       "8659  https://afaq.edu.pk/product/english-beginner-b...  \n",
       "8660         https://afaq.edu.pk/product/math-beginner/  \n",
       "8661  https://afaq.edu.pk/product/social-studies-beg...  \n",
       "8662  https://afaq.edu.pk/product/general-knowledge-...  \n",
       "8663     https://afaq.edu.pk/product/mutalia-e-islam-1/  \n",
       "\n",
       "[8664 rows x 2 columns]"
      ]
     },
     "execution_count": 14,
     "metadata": {},
     "output_type": "execute_result"
    }
   ],
   "source": [
    "df1"
   ]
  },
  {
   "cell_type": "code",
   "execution_count": 15,
   "id": "a001cb27",
   "metadata": {},
   "outputs": [],
   "source": [
    "# load the documents from the dataframe into docs\n",
    "\n",
    "docs = DataFrameLoader(df1,page_content_column = \"Page_content\").load()"
   ]
  },
  {
   "cell_type": "code",
   "execution_count": 16,
   "id": "2710969a",
   "metadata": {},
   "outputs": [
    {
     "data": {
      "text/plain": [
       "[Document(page_content='Title: CAMBRIDGE LOWER SECONDARY COMPUTING LEARNER\\x92S BOOK 9 WITH DIGITAL ACCESS (1 YEAR)\\nPublisher: Paramount\\nPrice: 5545', metadata={'Link': 'https://paramountbooks.com.pk/product/cambridge-lower-secondary-computing-learners-book-9-with-digital-access-1-year/'}),\n",
       " Document(page_content='Title: CAMBRIDGE INTERNATIONAL AS LEVEL ENVIRONMENTAL MANAGEMENT COURSEBOOK WITH DIGITAL ACCESS (2 YEARS)\\nPublisher: Paramount\\nPrice: 8425', metadata={'Link': 'https://paramountbooks.com.pk/product/cambridge-international-as-level-environmental-management-coursebook-with-digital-access-2-years/'}),\n",
       " Document(page_content='Title: 1000 THINGS TO EAT\\nPublisher: Paramount\\nPrice: 2995', metadata={'Link': 'https://paramountbooks.com.pk/product/1000-things-to-eat/'})]"
      ]
     },
     "execution_count": 16,
     "metadata": {},
     "output_type": "execute_result"
    }
   ],
   "source": [
    "\n",
    "# Print the first 3 documents and the number of documents\n",
    "docs[:3]"
   ]
  },
  {
   "cell_type": "code",
   "execution_count": 17,
   "id": "986aedec",
   "metadata": {},
   "outputs": [
    {
     "data": {
      "text/plain": [
       "8664"
      ]
     },
     "execution_count": 17,
     "metadata": {},
     "output_type": "execute_result"
    }
   ],
   "source": [
    "len(docs)"
   ]
  },
  {
   "cell_type": "code",
   "execution_count": 18,
   "id": "0b9598f5",
   "metadata": {},
   "outputs": [
    {
     "data": {
      "text/plain": [
       "0.019249500000000003"
      ]
     },
     "execution_count": 18,
     "metadata": {},
     "output_type": "execute_result"
    }
   ],
   "source": [
    "#Estimate the Cost of Embedding\n",
    "\n",
    "#import tiktoken\n",
    "import tiktoken\n",
    "\n",
    "# create the encoder\n",
    "\n",
    "encoder = tiktoken.get_encoding(\"cl100k_base\")\n",
    "\n",
    "# create a list containing the number of token per document\n",
    "tokens_per_docs = [len(encoder.encode(doc.page_content)) for doc in docs]\n",
    "\n",
    "\n",
    "# Show the estimated cost, which is the sum of the amount of tokens divided by 1000, times $0.0001\n",
    "total_tokens = sum(tokens_per_docs)\n",
    "cost_per_1000_tokens = 0.0001\n",
    "cost = (total_tokens / 1000) * cost_per_1000_tokens\n",
    "cost"
   ]
  },
  {
   "cell_type": "markdown",
   "id": "7ac11320",
   "metadata": {},
   "source": [
    "#Task 4: Create the Index on Pinecone"
   ]
  },
  {
   "cell_type": "code",
   "execution_count": 19,
   "id": "3093b6a4",
   "metadata": {},
   "outputs": [
    {
     "name": "stdout",
     "output_type": "stream",
     "text": [
      "Requirement already satisfied: pinecone-client==3.2.2 in c:\\users\\gs\\anaconda3\\lib\\site-packages (3.2.2)\n",
      "Requirement already satisfied: certifi>=2019.11.17 in c:\\users\\gs\\anaconda3\\lib\\site-packages (from pinecone-client==3.2.2) (2024.2.2)\n",
      "Requirement already satisfied: tqdm>=4.64.1 in c:\\users\\gs\\anaconda3\\lib\\site-packages (from pinecone-client==3.2.2) (4.65.0)\n",
      "Requirement already satisfied: typing-extensions>=3.7.4 in c:\\users\\gs\\anaconda3\\lib\\site-packages (from pinecone-client==3.2.2) (4.11.0)\n",
      "Requirement already satisfied: urllib3>=1.26.0 in c:\\users\\gs\\anaconda3\\lib\\site-packages (from pinecone-client==3.2.2) (1.26.16)\n",
      "Requirement already satisfied: colorama in c:\\users\\gs\\anaconda3\\lib\\site-packages (from tqdm>=4.64.1->pinecone-client==3.2.2) (0.4.6)\n",
      "Note: you may need to restart the kernel to use updated packages.\n"
     ]
    }
   ],
   "source": [
    "pip install pinecone-client==3.2.2"
   ]
  },
  {
   "cell_type": "code",
   "execution_count": 20,
   "id": "61e93f9f",
   "metadata": {},
   "outputs": [],
   "source": [
    "import pinecone\n",
    "import os\n",
    "os.environ[\"PINECONE_API_KEY\"] = \"xxxxxxxxxxx\" # get from PINECONE website"
   ]
  },
  {
   "cell_type": "code",
   "execution_count": 21,
   "id": "a2a959a1",
   "metadata": {},
   "outputs": [],
   "source": [
    "# Set the index name\n",
    "index_name = \"publisherbooks\""
   ]
  },
  {
   "cell_type": "code",
   "execution_count": 22,
   "id": "82c6a561",
   "metadata": {},
   "outputs": [],
   "source": [
    "from pinecone import Pinecone, ServerlessSpec\n",
    "pc = Pinecone(api_key=\"xxxxxxxxxxxxx\")"
   ]
  },
  {
   "cell_type": "code",
   "execution_count": 23,
   "id": "17e17759",
   "metadata": {},
   "outputs": [
    {
     "name": "stderr",
     "output_type": "stream",
     "text": [
      "C:\\Users\\GS\\anaconda3\\Lib\\site-packages\\langchain_core\\_api\\deprecation.py:119: LangChainDeprecationWarning: The class `OpenAIEmbeddings` was deprecated in LangChain 0.0.9 and will be removed in 0.3.0. An updated version of the class exists in the langchain-openai package and should be used instead. To use it run `pip install -U langchain-openai` and import as `from langchain_openai import OpenAIEmbeddings`.\n",
      "  warn_deprecated(\n"
     ]
    }
   ],
   "source": [
    "# From the langchain_openai package, import OpenAIEmbeddings\n",
    "# From the langchain_pinecone package, import PineconeVectorStore\n",
    "\n",
    "from langchain.embeddings.openai import OpenAIEmbeddings\n",
    "from langchain.vectorstores import Pinecone\n",
    "\n",
    "\n",
    "# Create the embeddings object\n",
    "os.environ[\"OPENAI_API_KEY\"] = \"xxxxxxxxxxxx\"\n",
    "embeddings = OpenAIEmbeddings()\n",
    "\n",
    "\n",
    "# Create an index from its name\n",
    "\n",
    "index = pc.Index(index_name)"
   ]
  },
  {
   "cell_type": "code",
   "execution_count": 24,
   "id": "e9684294",
   "metadata": {},
   "outputs": [],
   "source": [
    "from langchain.vectorstores import Pinecone\n",
    "\n",
    "# check if there is already some data in the index on Pinecone\n",
    "if index.describe_index_stats()['total_vector_count'] > 0:\n",
    "    # if there is, use from_existing_index to use the vector store\n",
    "    docsearch = Pinecone.from_existing_index(\n",
    "        index_name,\n",
    "        embeddings,\n",
    "    )\n",
    "else:\n",
    "    # if there is not, use from_documents to fill the vector store\n",
    "    docsearch = Pinecone.from_documents(\n",
    "        docs,\n",
    "        embeddings,\n",
    "        index_name=index_name\n",
    "    )\n"
   ]
  },
  {
   "cell_type": "code",
   "execution_count": 25,
   "id": "52f77f9a",
   "metadata": {},
   "outputs": [
    {
     "name": "stderr",
     "output_type": "stream",
     "text": [
      "C:\\Users\\GS\\anaconda3\\Lib\\site-packages\\langchain_core\\_api\\deprecation.py:119: LangChainDeprecationWarning: The method `BaseRetriever.get_relevant_documents` was deprecated in langchain-core 0.1.46 and will be removed in 0.3.0. Use invoke instead.\n",
      "  warn_deprecated(\n"
     ]
    },
    {
     "data": {
      "text/plain": [
       "[Document(page_content='Title: Gaba Counting Book 123 Picture Book\\nPublisher: Gaba\\nPrice: 400', metadata={'Link': 'https://gabaedu.com/product/gaba-counting-book-123-picture-book/'}),\n",
       " Document(page_content='Title: Gaba Science for Tomorrow(s) World 8\\nPublisher: Gaba\\nPrice: 710', metadata={'Link': 'https://gabaedu.com/product/gaba-science-for-tomorrows-world-8/'}),\n",
       " Document(page_content='Title: GABA MATHEMATICS \\x96 5\\nPublisher: Gaba\\nPrice: 480', metadata={'Link': 'https://gabaedu.com/product/gaba-mathematics-5/'}),\n",
       " Document(page_content='Title: GABA MATHEMATICS \\x96 5\\nPublisher: Gaba\\nPrice: 480', metadata={'Link': 'https://gabaedu.com/product/gaba-mathematics-5/'})]"
      ]
     },
     "execution_count": 25,
     "metadata": {},
     "output_type": "execute_result"
    }
   ],
   "source": [
    "Question = \"How many titles of Gaba\"\n",
    "# use the vector database as a retriever and get the relevant documents for a question\n",
    "docsearch.as_retriever().get_relevant_documents(Question)"
   ]
  },
  {
   "cell_type": "code",
   "execution_count": 26,
   "id": "229d4a82",
   "metadata": {},
   "outputs": [
    {
     "data": {
      "text/plain": [
       "[Document(page_content='Title: PARAMOUNT 1000 WORDS TO TALK ABOUT\\nPublisher: Paramount\\nPrice: 695', metadata={'Link': 'https://paramountbooks.com.pk/product/paramount-1000-words-to-talk-about/'}),\n",
       " Document(page_content='Title: TITLI SAY TITLI (CLASS-1)\\nPublisher: Paramount\\nPrice: 245', metadata={'Link': 'https://paramountbooks.com.pk/product/titli-say-titli-class-1/'}),\n",
       " Document(page_content='Title: PARAMOUNT TABLE BOOK\\nPublisher: Paramount\\nPrice: 125', metadata={'Link': 'https://paramountbooks.com.pk/product/paramount-table-book/'}),\n",
       " Document(page_content='Title: PARAMOUNT THE RADIANT WAY: 2nd STEP\\nPublisher: Paramount\\nPrice: 165', metadata={'Link': 'https://paramountbooks.com.pk/product/paramount-the-radiant-way-2nd-step/'})]"
      ]
     },
     "execution_count": 26,
     "metadata": {},
     "output_type": "execute_result"
    }
   ],
   "source": [
    "Question1 = \"How many titles of Paramount\"\n",
    "# use the vector database as a retriever and get the relevant documents for a question\n",
    "docsearch.as_retriever().get_relevant_documents(Question1)"
   ]
  },
  {
   "cell_type": "code",
   "execution_count": 27,
   "id": "bfd7b557",
   "metadata": {},
   "outputs": [
    {
     "data": {
      "text/plain": [
       "[Document(page_content='Title: PARAMOUNT 1000 WORDS TO TALK ABOUT\\nPublisher: Paramount\\nPrice: 695', metadata={'Link': 'https://paramountbooks.com.pk/product/paramount-1000-words-to-talk-about/'}),\n",
       " Document(page_content='Title: 1000 WORDS TO TALK ABOUT (BLUE)\\nPublisher: Paramount\\nPrice: 625', metadata={'Link': 'https://paramountbooks.com.pk/product/1000-words-to-talk-about-blue/'}),\n",
       " Document(page_content='Title: PARAMOUNT 1000 WORDS IN PICTURES (YELLOW)\\nPublisher: Paramount\\nPrice: 695', metadata={'Link': 'https://paramountbooks.com.pk/product/paramount-1000-words-in-pictures-yellow/'}),\n",
       " Document(page_content='Title: MY FIRST 1000 WORDS\\nPublisher: Paramount\\nPrice: 2095', metadata={'Link': 'https://paramountbooks.com.pk/product/my-first-1000-words-2/'})]"
      ]
     },
     "execution_count": 27,
     "metadata": {},
     "output_type": "execute_result"
    }
   ],
   "source": [
    "Question2 = \"PARAMOUNT 1000 WORDS TO TALK ABOUT\"\n",
    "# use the vector database as a retriever and get the relevant documents for a question\n",
    "docsearch.as_retriever().get_relevant_documents(Question2)"
   ]
  },
  {
   "cell_type": "code",
   "execution_count": 28,
   "id": "4eeca788",
   "metadata": {},
   "outputs": [
    {
     "data": {
      "text/plain": [
       "[Document(page_content='Title: PARAMOUNT 1000 WORDS TO TALK ABOUT\\nPublisher: Paramount\\nPrice: 695', metadata={'Link': 'https://paramountbooks.com.pk/product/paramount-1000-words-to-talk-about/'}),\n",
       " Document(page_content='Title: 1000 WORDS TO TALK ABOUT (BLUE)\\nPublisher: Paramount\\nPrice: 625', metadata={'Link': 'https://paramountbooks.com.pk/product/1000-words-to-talk-about-blue/'}),\n",
       " Document(page_content='Title: MY FIRST 1000 WORDS\\nPublisher: Paramount\\nPrice: 2095', metadata={'Link': 'https://paramountbooks.com.pk/product/my-first-1000-words-2/'}),\n",
       " Document(page_content='Title: PARAMOUNT 1000 WORDS IN PICTURES (YELLOW)\\nPublisher: Paramount\\nPrice: 695', metadata={'Link': 'https://paramountbooks.com.pk/product/paramount-1000-words-in-pictures-yellow/'})]"
      ]
     },
     "execution_count": 28,
     "metadata": {},
     "output_type": "execute_result"
    }
   ],
   "source": [
    "Question3 = \"Price of PARAMOUNT 1000 WORDS TO TALK ABOUT\"\n",
    "# use the vector database as a retriever and get the relevant documents for a question\n",
    "docsearch.as_retriever().get_relevant_documents(Question3)"
   ]
  },
  {
   "cell_type": "code",
   "execution_count": 38,
   "id": "9834f29d",
   "metadata": {},
   "outputs": [],
   "source": [
    "# Import PromptTemplate\n",
    "\n",
    "from langchain.prompts import PromptTemplate\n",
    "\n",
    "# Read/adapt the prompts below at will\n",
    "DOCUMENT_PROMPT = \"\"\"{page_content}\n",
    "Website link: {Link}\n",
    "=========\"\"\"\n",
    "\n",
    "QUESTION_PROMPT = \"\"\"Given the following extracted parts of a publisher database and a question, create a final answer with the Website link as source (\"LINK\").\n",
    "If you don't know the answer, just say that you don't know. Don't try to make up an answer.\n",
    "ALWAYS return a \"LINK\" part in your answer.\n",
    "\n",
    "QUESTION: What's are the book titles of Paramount Publisher?\n",
    "=========\n",
    "Title: 1000 THINGS TO EAT\n",
    "Publisher: Paramount\n",
    "Price: 2995\n",
    "Website link: https://paramountbooks.com.pk/product/1000-things-to-eat/\n",
    "=========\n",
    "Title: CAMBRIDGE EARLY YEARS MATHEMATICS LEARNER’S BOOK 2B\n",
    "Publisher: Paramount\n",
    "Price: 995\n",
    "Website link: https://paramountbooks.com.pk/product/cambridge-early-years-mathematics-learners-book-2a-copy/\n",
    "=========\n",
    "Title: JUNIOR ENGLISH GRAMMAR BOOK 6\n",
    "Publisher: Action,Adventure,Animation\n",
    "Price: 295\n",
    "Website link: https://paramountbooks.com.pk/product/junior-english-grammar-book-6/\n",
    "=========\n",
    "FINAL ANSWER: 'There are different book title of paramount publisher, 1) 1000 THINGS TO EAT',Price: 2995, LINK: https://paramountbooks.com.pk/product/1000-things-to-eat/ , 2) CAMBRIDGE EARLY YEARS MATHEMATICS LEARNER’S BOOK 2B, LINK: https://paramountbooks.com.pk/product/cambridge-early-years-mathematics-learners-book-2a-copy/,\n",
    "3) JUNIOR ENGLISH GRAMMAR BOOK 6, LINK: https://paramountbooks.com.pk/product/junior-english-grammar-book-6/\n",
    "\n",
    "QUESTION: {question}\n",
    "=========\n",
    "{summaries}\n",
    "FINAL ANSWER:\"\"\"\n",
    "\n",
    "# Create prompt template objects\n",
    "document_prompt = PromptTemplate.from_template(DOCUMENT_PROMPT)\n",
    "question_prompt = PromptTemplate.from_template(QUESTION_PROMPT)\n"
   ]
  },
  {
   "cell_type": "code",
   "execution_count": 33,
   "id": "e4dcc68e",
   "metadata": {},
   "outputs": [],
   "source": [
    "# From the langchain.chains module, import RetrievalQAWithSourcesChain\n",
    "# From the langchain_openai package, import ChatOpenAI\n",
    "from langchain.chains import RetrievalQAWithSourcesChain\n",
    "from langchain_openai import ChatOpenAI\n",
    "\n",
    "\n",
    "\n",
    "# Create the QA bot LLM chain\n",
    "qa_with_sources = RetrievalQAWithSourcesChain.from_chain_type(\n",
    "        chain_type = \"stuff\",\n",
    "        llm = ChatOpenAI(model_name = \"gpt-3.5-turbo\", temperature = 0),\n",
    "        chain_type_kwargs = {\n",
    "            \"prompt\":question_prompt,\n",
    "            \"document_prompt\":document_prompt,\n",
    "        },\n",
    "        retriever = docsearch.as_retriever(),\n",
    "\n",
    "\n",
    ")\n"
   ]
  },
  {
   "cell_type": "code",
   "execution_count": 34,
   "id": "01c52fec",
   "metadata": {},
   "outputs": [
    {
     "name": "stdout",
     "output_type": "stream",
     "text": [
      "Requirement already satisfied: langchain_openai in c:\\users\\gs\\anaconda3\\lib\\site-packages (0.1.6)\n",
      "Collecting langchain_openai\n",
      "  Obtaining dependency information for langchain_openai from https://files.pythonhosted.org/packages/0e/f1/12cd80e136b6bf5f498bee178084e71d48f664e5639e9cc7f900244d9f1c/langchain_openai-0.1.23-py3-none-any.whl.metadata\n",
      "  Downloading langchain_openai-0.1.23-py3-none-any.whl.metadata (2.6 kB)\n",
      "Requirement already satisfied: langchain_core in c:\\users\\gs\\anaconda3\\lib\\site-packages (0.1.52)\n",
      "Collecting langchain_core\n",
      "  Obtaining dependency information for langchain_core from https://files.pythonhosted.org/packages/3a/cd/ae8a4b445b588c2e5f173c9b99490e4ebe2eb7f3541e6fa0e8639e0c33cb/langchain_core-0.2.37-py3-none-any.whl.metadata\n",
      "  Downloading langchain_core-0.2.37-py3-none-any.whl.metadata (6.2 kB)\n",
      "Collecting openai<2.0.0,>=1.40.0 (from langchain_openai)\n",
      "  Obtaining dependency information for openai<2.0.0,>=1.40.0 from https://files.pythonhosted.org/packages/5e/4d/affea11bd85ca69d9fdd15567495bb9088ac1c37498c95cb42d9ecd984ed/openai-1.43.0-py3-none-any.whl.metadata\n",
      "  Downloading openai-1.43.0-py3-none-any.whl.metadata (22 kB)\n",
      "Requirement already satisfied: tiktoken<1,>=0.7 in c:\\users\\gs\\anaconda3\\lib\\site-packages (from langchain_openai) (0.7.0)\n",
      "Requirement already satisfied: PyYAML>=5.3 in c:\\users\\gs\\anaconda3\\lib\\site-packages (from langchain_core) (6.0)\n",
      "Requirement already satisfied: jsonpatch<2.0,>=1.33 in c:\\users\\gs\\anaconda3\\lib\\site-packages (from langchain_core) (1.33)\n",
      "Requirement already satisfied: langsmith<0.2.0,>=0.1.75 in c:\\users\\gs\\anaconda3\\lib\\site-packages (from langchain_core) (0.1.75)\n",
      "Requirement already satisfied: packaging<25,>=23.2 in c:\\users\\gs\\anaconda3\\lib\\site-packages (from langchain_core) (23.2)\n",
      "Requirement already satisfied: pydantic<3,>=1 in c:\\users\\gs\\anaconda3\\lib\\site-packages (from langchain_core) (1.10.8)\n",
      "Requirement already satisfied: tenacity!=8.4.0,<9.0.0,>=8.1.0 in c:\\users\\gs\\anaconda3\\lib\\site-packages (from langchain_core) (8.2.2)\n",
      "Requirement already satisfied: typing-extensions>=4.7 in c:\\users\\gs\\anaconda3\\lib\\site-packages (from langchain_core) (4.11.0)\n",
      "Requirement already satisfied: jsonpointer>=1.9 in c:\\users\\gs\\anaconda3\\lib\\site-packages (from jsonpatch<2.0,>=1.33->langchain_core) (2.1)\n",
      "Requirement already satisfied: orjson<4.0.0,>=3.9.14 in c:\\users\\gs\\anaconda3\\lib\\site-packages (from langsmith<0.2.0,>=0.1.75->langchain_core) (3.10.3)\n",
      "Requirement already satisfied: requests<3,>=2 in c:\\users\\gs\\anaconda3\\lib\\site-packages (from langsmith<0.2.0,>=0.1.75->langchain_core) (2.31.0)\n",
      "Requirement already satisfied: anyio<5,>=3.5.0 in c:\\users\\gs\\anaconda3\\lib\\site-packages (from openai<2.0.0,>=1.40.0->langchain_openai) (3.5.0)\n",
      "Requirement already satisfied: distro<2,>=1.7.0 in c:\\users\\gs\\anaconda3\\lib\\site-packages (from openai<2.0.0,>=1.40.0->langchain_openai) (1.8.0)\n",
      "Requirement already satisfied: httpx<1,>=0.23.0 in c:\\users\\gs\\anaconda3\\lib\\site-packages (from openai<2.0.0,>=1.40.0->langchain_openai) (0.25.2)\n",
      "Requirement already satisfied: jiter<1,>=0.4.0 in c:\\users\\gs\\anaconda3\\lib\\site-packages (from openai<2.0.0,>=1.40.0->langchain_openai) (0.5.0)\n",
      "Requirement already satisfied: sniffio in c:\\users\\gs\\anaconda3\\lib\\site-packages (from openai<2.0.0,>=1.40.0->langchain_openai) (1.2.0)\n",
      "Requirement already satisfied: tqdm>4 in c:\\users\\gs\\anaconda3\\lib\\site-packages (from openai<2.0.0,>=1.40.0->langchain_openai) (4.65.0)\n",
      "Requirement already satisfied: regex>=2022.1.18 in c:\\users\\gs\\anaconda3\\lib\\site-packages (from tiktoken<1,>=0.7->langchain_openai) (2022.7.9)\n",
      "Requirement already satisfied: idna>=2.8 in c:\\users\\gs\\anaconda3\\lib\\site-packages (from anyio<5,>=3.5.0->openai<2.0.0,>=1.40.0->langchain_openai) (3.4)\n",
      "Requirement already satisfied: certifi in c:\\users\\gs\\anaconda3\\lib\\site-packages (from httpx<1,>=0.23.0->openai<2.0.0,>=1.40.0->langchain_openai) (2024.2.2)\n",
      "Requirement already satisfied: httpcore==1.* in c:\\users\\gs\\anaconda3\\lib\\site-packages (from httpx<1,>=0.23.0->openai<2.0.0,>=1.40.0->langchain_openai) (1.0.2)\n",
      "Requirement already satisfied: h11<0.15,>=0.13 in c:\\users\\gs\\anaconda3\\lib\\site-packages (from httpcore==1.*->httpx<1,>=0.23.0->openai<2.0.0,>=1.40.0->langchain_openai) (0.14.0)\n",
      "Requirement already satisfied: charset-normalizer<4,>=2 in c:\\users\\gs\\anaconda3\\lib\\site-packages (from requests<3,>=2->langsmith<0.2.0,>=0.1.75->langchain_core) (2.0.4)\n",
      "Requirement already satisfied: urllib3<3,>=1.21.1 in c:\\users\\gs\\anaconda3\\lib\\site-packages (from requests<3,>=2->langsmith<0.2.0,>=0.1.75->langchain_core) (1.26.16)\n",
      "Requirement already satisfied: colorama in c:\\users\\gs\\anaconda3\\lib\\site-packages (from tqdm>4->openai<2.0.0,>=1.40.0->langchain_openai) (0.4.6)\n",
      "Downloading langchain_openai-0.1.23-py3-none-any.whl (51 kB)\n",
      "   ---------------------------------------- 0.0/52.0 kB ? eta -:--:--\n",
      "   ----------------------- ---------------- 30.7/52.0 kB 1.3 MB/s eta 0:00:01\n",
      "   ---------------------------------------  51.2/52.0 kB 435.7 kB/s eta 0:00:01\n",
      "   ---------------------------------------- 52.0/52.0 kB 333.8 kB/s eta 0:00:00\n",
      "Downloading langchain_core-0.2.37-py3-none-any.whl (396 kB)\n",
      "   ---------------------------------------- 0.0/396.2 kB ? eta -:--:--\n",
      "   -------- ------------------------------- 81.9/396.2 kB 2.3 MB/s eta 0:00:01\n",
      "   --------- ------------------------------ 92.2/396.2 kB 2.6 MB/s eta 0:00:01\n",
      "   ---------------- ----------------------- 163.8/396.2 kB 1.2 MB/s eta 0:00:01\n",
      "   ---------------------- ----------------- 225.3/396.2 kB 1.4 MB/s eta 0:00:01\n",
      "   ---------------------- ----------------- 225.3/396.2 kB 1.4 MB/s eta 0:00:01\n",
      "   ---------------------- ----------------- 225.3/396.2 kB 1.4 MB/s eta 0:00:01\n",
      "   ---------------------- ----------------- 225.3/396.2 kB 1.4 MB/s eta 0:00:01\n",
      "   ---------------------------------------  389.1/396.2 kB 1.1 MB/s eta 0:00:01\n",
      "   -------------------------------------- 396.2/396.2 kB 989.6 kB/s eta 0:00:00\n",
      "Downloading openai-1.43.0-py3-none-any.whl (365 kB)\n",
      "   ---------------------------------------- 0.0/365.7 kB ? eta -:--:--\n",
      "   ------------ --------------------------- 112.6/365.7 kB 2.2 MB/s eta 0:00:01\n",
      "   ------------ --------------------------- 112.6/365.7 kB 2.2 MB/s eta 0:00:01\n",
      "   ------------------ ------------------- 174.1/365.7 kB 952.6 kB/s eta 0:00:01\n",
      "   ---------------------------------------- 365.7/365.7 kB 1.6 MB/s eta 0:00:00\n",
      "Installing collected packages: openai, langchain_core, langchain_openai\n",
      "  Attempting uninstall: openai\n",
      "    Found existing installation: openai 1.27.0\n",
      "    Uninstalling openai-1.27.0:\n",
      "      Successfully uninstalled openai-1.27.0\n",
      "  Attempting uninstall: langchain_core\n",
      "    Found existing installation: langchain-core 0.1.52\n",
      "    Uninstalling langchain-core-0.1.52:\n",
      "      Successfully uninstalled langchain-core-0.1.52\n",
      "  Attempting uninstall: langchain_openai\n",
      "    Found existing installation: langchain-openai 0.1.6\n",
      "    Uninstalling langchain-openai-0.1.6:\n",
      "      Successfully uninstalled langchain-openai-0.1.6\n",
      "Successfully installed langchain_core-0.2.37 langchain_openai-0.1.23 openai-1.43.0\n",
      "Note: you may need to restart the kernel to use updated packages.\n"
     ]
    },
    {
     "name": "stderr",
     "output_type": "stream",
     "text": [
      "ERROR: pip's dependency resolver does not currently take into account all the packages that are installed. This behaviour is the source of the following dependency conflicts.\n",
      "langchain 0.1.19 requires langchain-core<0.2.0,>=0.1.52, but you have langchain-core 0.2.37 which is incompatible.\n",
      "langchain-community 0.0.38 requires langchain-core<0.2.0,>=0.1.52, but you have langchain-core 0.2.37 which is incompatible.\n",
      "langchain-pinecone 0.1.0 requires langchain-core<0.2.0,>=0.1.40, but you have langchain-core 0.2.37 which is incompatible.\n"
     ]
    }
   ],
   "source": [
    "pip install --upgrade langchain_openai langchain_core\n"
   ]
  },
  {
   "cell_type": "code",
   "execution_count": 35,
   "id": "6302faf8",
   "metadata": {},
   "outputs": [
    {
     "name": "stdout",
     "output_type": "stream",
     "text": [
      "Requirement already satisfied: langchain_openai in c:\\users\\gs\\anaconda3\\lib\\site-packages (0.1.23)\n",
      "Requirement already satisfied: langchain_core in c:\\users\\gs\\anaconda3\\lib\\site-packages (0.2.37)\n",
      "Requirement already satisfied: openai<2.0.0,>=1.40.0 in c:\\users\\gs\\anaconda3\\lib\\site-packages (from langchain_openai) (1.43.0)\n",
      "Requirement already satisfied: tiktoken<1,>=0.7 in c:\\users\\gs\\anaconda3\\lib\\site-packages (from langchain_openai) (0.7.0)\n",
      "Requirement already satisfied: PyYAML>=5.3 in c:\\users\\gs\\anaconda3\\lib\\site-packages (from langchain_core) (6.0)\n",
      "Requirement already satisfied: jsonpatch<2.0,>=1.33 in c:\\users\\gs\\anaconda3\\lib\\site-packages (from langchain_core) (1.33)\n",
      "Requirement already satisfied: langsmith<0.2.0,>=0.1.75 in c:\\users\\gs\\anaconda3\\lib\\site-packages (from langchain_core) (0.1.75)\n",
      "Requirement already satisfied: packaging<25,>=23.2 in c:\\users\\gs\\anaconda3\\lib\\site-packages (from langchain_core) (23.2)\n",
      "Requirement already satisfied: pydantic<3,>=1 in c:\\users\\gs\\anaconda3\\lib\\site-packages (from langchain_core) (1.10.8)\n",
      "Requirement already satisfied: tenacity!=8.4.0,<9.0.0,>=8.1.0 in c:\\users\\gs\\anaconda3\\lib\\site-packages (from langchain_core) (8.2.2)\n",
      "Requirement already satisfied: typing-extensions>=4.7 in c:\\users\\gs\\anaconda3\\lib\\site-packages (from langchain_core) (4.11.0)\n",
      "Requirement already satisfied: jsonpointer>=1.9 in c:\\users\\gs\\anaconda3\\lib\\site-packages (from jsonpatch<2.0,>=1.33->langchain_core) (2.1)\n",
      "Requirement already satisfied: orjson<4.0.0,>=3.9.14 in c:\\users\\gs\\anaconda3\\lib\\site-packages (from langsmith<0.2.0,>=0.1.75->langchain_core) (3.10.3)\n",
      "Requirement already satisfied: requests<3,>=2 in c:\\users\\gs\\anaconda3\\lib\\site-packages (from langsmith<0.2.0,>=0.1.75->langchain_core) (2.31.0)\n",
      "Requirement already satisfied: anyio<5,>=3.5.0 in c:\\users\\gs\\anaconda3\\lib\\site-packages (from openai<2.0.0,>=1.40.0->langchain_openai) (3.5.0)\n",
      "Requirement already satisfied: distro<2,>=1.7.0 in c:\\users\\gs\\anaconda3\\lib\\site-packages (from openai<2.0.0,>=1.40.0->langchain_openai) (1.8.0)\n",
      "Requirement already satisfied: httpx<1,>=0.23.0 in c:\\users\\gs\\anaconda3\\lib\\site-packages (from openai<2.0.0,>=1.40.0->langchain_openai) (0.25.2)\n",
      "Requirement already satisfied: jiter<1,>=0.4.0 in c:\\users\\gs\\anaconda3\\lib\\site-packages (from openai<2.0.0,>=1.40.0->langchain_openai) (0.5.0)\n",
      "Requirement already satisfied: sniffio in c:\\users\\gs\\anaconda3\\lib\\site-packages (from openai<2.0.0,>=1.40.0->langchain_openai) (1.2.0)\n",
      "Requirement already satisfied: tqdm>4 in c:\\users\\gs\\anaconda3\\lib\\site-packages (from openai<2.0.0,>=1.40.0->langchain_openai) (4.65.0)\n",
      "Requirement already satisfied: regex>=2022.1.18 in c:\\users\\gs\\anaconda3\\lib\\site-packages (from tiktoken<1,>=0.7->langchain_openai) (2022.7.9)\n",
      "Requirement already satisfied: idna>=2.8 in c:\\users\\gs\\anaconda3\\lib\\site-packages (from anyio<5,>=3.5.0->openai<2.0.0,>=1.40.0->langchain_openai) (3.4)\n",
      "Requirement already satisfied: certifi in c:\\users\\gs\\anaconda3\\lib\\site-packages (from httpx<1,>=0.23.0->openai<2.0.0,>=1.40.0->langchain_openai) (2024.2.2)\n",
      "Requirement already satisfied: httpcore==1.* in c:\\users\\gs\\anaconda3\\lib\\site-packages (from httpx<1,>=0.23.0->openai<2.0.0,>=1.40.0->langchain_openai) (1.0.2)\n",
      "Requirement already satisfied: h11<0.15,>=0.13 in c:\\users\\gs\\anaconda3\\lib\\site-packages (from httpcore==1.*->httpx<1,>=0.23.0->openai<2.0.0,>=1.40.0->langchain_openai) (0.14.0)\n",
      "Requirement already satisfied: charset-normalizer<4,>=2 in c:\\users\\gs\\anaconda3\\lib\\site-packages (from requests<3,>=2->langsmith<0.2.0,>=0.1.75->langchain_core) (2.0.4)\n",
      "Requirement already satisfied: urllib3<3,>=1.21.1 in c:\\users\\gs\\anaconda3\\lib\\site-packages (from requests<3,>=2->langsmith<0.2.0,>=0.1.75->langchain_core) (1.26.16)\n",
      "Requirement already satisfied: colorama in c:\\users\\gs\\anaconda3\\lib\\site-packages (from tqdm>4->openai<2.0.0,>=1.40.0->langchain_openai) (0.4.6)\n",
      "Note: you may need to restart the kernel to use updated packages.\n"
     ]
    }
   ],
   "source": [
    "pip install langchain_openai langchain_core\n"
   ]
  },
  {
   "cell_type": "code",
   "execution_count": 39,
   "id": "02c527fb",
   "metadata": {},
   "outputs": [
    {
     "data": {
      "text/plain": [
       "{'question': 'How many titles of Paramount',\n",
       " 'answer': 'There are 4 titles of Paramount publisher, 1) PARAMOUNT 1000 WORDS TO TALK ABOUT, LINK: https://paramountbooks.com.pk/product/paramount-1000-words-to-talk-about/, 2) TITLI SAY TITLI (CLASS-1), LINK: https://paramountbooks.com.pk/product/titli-say-titli-class-1/, 3) PARAMOUNT TABLE BOOK, LINK: https://paramountbooks.com.pk/product/paramount-table-book/, 4) PARAMOUNT THE RADIANT WAY: 2nd STEP, LINK: https://paramountbooks.com.pk/product/paramount-the-radiant-way-2nd-step/',\n",
       " 'sources': ''}"
      ]
     },
     "execution_count": 39,
     "metadata": {},
     "output_type": "execute_result"
    }
   ],
   "source": [
    "qa_with_sources(Question1)"
   ]
  },
  {
   "cell_type": "code",
   "execution_count": 40,
   "id": "558736dc",
   "metadata": {},
   "outputs": [
    {
     "data": {
      "text/plain": [
       "{'question': 'How many titles of Gaba',\n",
       " 'answer': 'There are three titles of Gaba publisher, 1) Gaba Counting Book 123 Picture Book, LINK: https://gabaedu.com/product/gaba-counting-book-123-picture-book/, 2) Gaba Science for Tomorrow(s) World 8, LINK: https://gabaedu.com/product/gaba-science-for-tomorrows-world-8/, 3) GABA MATHEMATICS \\x96 5, LINK: https://gabaedu.com/product/gaba-mathematics-5/',\n",
       " 'sources': ''}"
      ]
     },
     "execution_count": 40,
     "metadata": {},
     "output_type": "execute_result"
    }
   ],
   "source": [
    "Question5 = \"How many titles of Gaba\"\n",
    "qa_with_sources(Question5)"
   ]
  },
  {
   "cell_type": "code",
   "execution_count": 43,
   "id": "91b7e83f",
   "metadata": {},
   "outputs": [
    {
     "data": {
      "text/plain": [
       "{'question': 'what is the price of PARAMOUNT 1000 WORDS TO TALK ABOUT',\n",
       " 'answer': 'The price of PARAMOUNT 1000 WORDS TO TALK ABOUT is 695, LINK: https://paramountbooks.com.pk/product/paramount-1000-words-to-talk-about/',\n",
       " 'sources': ''}"
      ]
     },
     "execution_count": 43,
     "metadata": {},
     "output_type": "execute_result"
    }
   ],
   "source": [
    "Question6 = \"what is the price of PARAMOUNT 1000 WORDS TO TALK ABOUT\"\n",
    "qa_with_sources(Question6)"
   ]
  },
  {
   "cell_type": "code",
   "execution_count": 44,
   "id": "3d572cde",
   "metadata": {},
   "outputs": [
    {
     "data": {
      "text/plain": [
       "{'question': 'what is the ISBNs of PARAMOUNT 1000 WORDS TO TALK ABOUT',\n",
       " 'answer': \"I don't know.\",\n",
       " 'sources': ''}"
      ]
     },
     "execution_count": 44,
     "metadata": {},
     "output_type": "execute_result"
    }
   ],
   "source": [
    "Question7 = \"what is the ISBNs of PARAMOUNT 1000 WORDS TO TALK ABOUT\"\n",
    "qa_with_sources(Question7)"
   ]
  },
  {
   "cell_type": "code",
   "execution_count": 46,
   "id": "bf16014c",
   "metadata": {},
   "outputs": [
    {
     "data": {
      "text/plain": [
       "{'question': 'what is the highest price book of paramount, share the price as well',\n",
       " 'answer': 'The highest price book of Paramount is PARAMOUNT URDU BOOK-4 with a price of 545, LINK: https://paramountbooks.com.pk/product/paramount-urdu-book-4/',\n",
       " 'sources': ''}"
      ]
     },
     "execution_count": 46,
     "metadata": {},
     "output_type": "execute_result"
    }
   ],
   "source": [
    "Question8 = \"what is the highest price book of paramount, share the price as well\"\n",
    "qa_with_sources(Question8)"
   ]
  },
  {
   "cell_type": "code",
   "execution_count": 48,
   "id": "459bea1f",
   "metadata": {},
   "outputs": [
    {
     "data": {
      "text/plain": [
       "{'question': 'What is the book title of Paramount, Gaba and Afaq',\n",
       " 'answer': \"'The book titles of Paramount, Gaba, and Afaq are: 1) PARAMOUNT AKHLAQI TALEEM BOOK 3, LINK: https://paramountbooks.com.pk/product/paramount-akhlaqi-taleem-book-3/, 2) PARAMOUNT QADAM UTHAO URDU QUAIDA + W/BK KG, LINK: https://paramountbooks.com.pk/product/paramount-qadam-uthao-urdu-quaida-w-bk-kg/, 3) PARAMOUNT NANNAY QADAM URDU QUAIDA BARAYE PLAYGROUP, LINK: https://paramountbooks.com.pk/product/paramount-nannay-qadam-urdu-quaida-baraye-playgroup/, 4) PARAMOUNT AKHLAQI TALEEM BOOK 5, LINK: https://paramountbooks.com.pk/product/paramount-akhlaqi-taleem-book-5/'\",\n",
       " 'sources': ''}"
      ]
     },
     "execution_count": 48,
     "metadata": {},
     "output_type": "execute_result"
    }
   ],
   "source": [
    "Question9 = \"Show the book title of Paramount, Gaba and Afaq\"\n",
    "qa_with_sources(Question9)"
   ]
  },
  {
   "cell_type": "code",
   "execution_count": 54,
   "id": "7e14db67",
   "metadata": {},
   "outputs": [
    {
     "data": {
      "text/plain": [
       "{'question': 'Please share the 10 book titles of Gaba with price and level',\n",
       " 'answer': \"'There are different book titles of Gaba publisher, 1) Numbers 1 to 10, Price: 395, Level: Unknown, LINK: https://gabaedu.com/product/numbers-1-to-10/, 2) Gaba English Translation Level 2, Price: 290, Level: Unknown, LINK: https://gabaedu.com/product/gaba-english-translation-level-2/, 3) Gaba Primary English Enriched Book 3, Price: 510, Level: Unknown, LINK: https://gabaedu.com/product/gaba-primary-english-enriched-book-3/, 4) Test Book for K.G 1, Price: 280, Level: Unknown, LINK: https://gabaedu.com/product/test-book-for-k-g-1/'\",\n",
       " 'sources': ''}"
      ]
     },
     "execution_count": 54,
     "metadata": {},
     "output_type": "execute_result"
    }
   ],
   "source": [
    "Question10 = \"Please share the 10 book titles of Gaba with price and level\"\n",
    "qa_with_sources(Question10)"
   ]
  },
  {
   "cell_type": "code",
   "execution_count": 56,
   "id": "440e6c79",
   "metadata": {},
   "outputs": [
    {
     "data": {
      "text/plain": [
       "{'question': 'Please share the 10 book titles of Afaq with price',\n",
       " 'answer': \"I'm sorry, I don't have enough information to provide the 10 book titles of Afaq with prices. LINK: I don't know.\",\n",
       " 'sources': ''}"
      ]
     },
     "execution_count": 56,
     "metadata": {},
     "output_type": "execute_result"
    }
   ],
   "source": [
    "Question11 = \"Please share the 10 book titles of Afaq with price\"\n",
    "qa_with_sources(Question11)"
   ]
  },
  {
   "cell_type": "code",
   "execution_count": 58,
   "id": "6878b489",
   "metadata": {},
   "outputs": [
    {
     "name": "stdout",
     "output_type": "stream",
     "text": [
      "{'question': 'Is there any book whose name starts with new', 'answer': 'Yes, there are books whose name starts with \"New\". The titles are: 1) New Generation English Book Introductory Part 1, LINK: https://gabaedu.com/product/new-generation-english-book-introductory-part-1/, 2) NEW PLUS BEGINNERS STUDENT\\'S BOOK, LINK: https://paramountbooks.com.pk/product/new-plus-beginners-students-book-2/, 3) New Generation English Book 1, LINK: https://gabaedu.com/product/new-generation-english-book-1/', 'sources': ''}\n"
     ]
    }
   ],
   "source": [
    "Question12 = \"Is there any book whose name starts with new\"\n",
    "print(qa_with_sources(Question12))"
   ]
  },
  {
   "cell_type": "code",
   "execution_count": 59,
   "id": "262f3cf6",
   "metadata": {},
   "outputs": [
    {
     "data": {
      "text/plain": [
       "{'question': 'What is the price of New Generation English Book Introductory Part 1',\n",
       " 'answer': 'The price of New Generation English Book Introductory Part 1 is 120, LINK: https://gabaedu.com/product/new-generation-english-book-introductory-part-1/',\n",
       " 'sources': ''}"
      ]
     },
     "execution_count": 59,
     "metadata": {},
     "output_type": "execute_result"
    }
   ],
   "source": [
    "Question13 = \"What is the price of New Generation English Book Introductory Part 1\"\n",
    "qa_with_sources(Question13)"
   ]
  },
  {
   "cell_type": "code",
   "execution_count": 62,
   "id": "03e5ee43",
   "metadata": {},
   "outputs": [
    {
     "data": {
      "text/plain": [
       "{'question': 'Name the books of Afaq whose prices are below than 300',\n",
       " 'answer': 'There is only one book by Afaq publisher with a price below 300, which is Islamiyat 3, LINK: https://afaq.edu.pk/product/islamiyat-3/',\n",
       " 'sources': ''}"
      ]
     },
     "execution_count": 62,
     "metadata": {},
     "output_type": "execute_result"
    }
   ],
   "source": [
    "Question14 = \"Name the books of Afaq whose prices are below than 300\"\n",
    "qa_with_sources(Question14)"
   ]
  },
  {
   "cell_type": "code",
   "execution_count": 69,
   "id": "8313939b",
   "metadata": {},
   "outputs": [
    {
     "data": {
      "text/plain": [
       "{'question': 'Name the books of Gaba whose prices are higher than 350',\n",
       " 'answer': 'The books of Gaba whose prices are higher than 350 are: 1) Beginners Book A, LINK: https://gabaedu.com/product/beginners-book-a/',\n",
       " 'sources': ''}"
      ]
     },
     "execution_count": 69,
     "metadata": {},
     "output_type": "execute_result"
    }
   ],
   "source": [
    "Question15 = \"Name the books of Gaba whose prices are higher than 350\"\n",
    "qa_with_sources(Question15)"
   ]
  },
  {
   "cell_type": "code",
   "execution_count": 75,
   "id": "2482005f",
   "metadata": {},
   "outputs": [
    {
     "data": {
      "text/plain": [
       "{'question': 'What is the publisher name of New Generation English Book Introductory Part 1',\n",
       " 'answer': 'The publisher name of New Generation English Book Introductory Part 1 is Gaba, LINK: https://gabaedu.com/product/new-generation-english-book-introductory-part-1/',\n",
       " 'sources': ''}"
      ]
     },
     "execution_count": 75,
     "metadata": {},
     "output_type": "execute_result"
    }
   ],
   "source": [
    "Question16 = \"What is the publisher name of New Generation English Book Introductory Part 1\"\n",
    "qa_with_sources(Question16)"
   ]
  },
  {
   "cell_type": "code",
   "execution_count": 82,
   "id": "2ea560ca",
   "metadata": {},
   "outputs": [
    {
     "data": {
      "text/plain": [
       "{'question': 'What is the book of Afaq',\n",
       " 'answer': \"The book of Afaq is 'Mutalia-e-Islam 1', LINK: https://afaq.edu.pk/product/mutalia-e-islam-1/\",\n",
       " 'sources': ''}"
      ]
     },
     "execution_count": 82,
     "metadata": {},
     "output_type": "execute_result"
    }
   ],
   "source": [
    "Question17 = \"What is the book of Afaq\"\n",
    "qa_with_sources(Question17)"
   ]
  },
  {
   "cell_type": "code",
   "execution_count": 85,
   "id": "bc256801",
   "metadata": {},
   "outputs": [
    {
     "data": {
      "text/plain": [
       "{'question': 'Give me five titles of Gaba',\n",
       " 'answer': 'There are three book titles of Gaba publisher, 1) Gaba Rising English 5, LINK: https://gabaedu.com/product/gaba-rising-english-5/, 2) Gaba Word Picture Book, LINK: https://gabaedu.com/product/gaba-word-picture-book/, 3) GABA MATHEMATICS \\x96 5, LINK: https://gabaedu.com/product/gaba-mathematics-5/',\n",
       " 'sources': ''}"
      ]
     },
     "execution_count": 85,
     "metadata": {},
     "output_type": "execute_result"
    }
   ],
   "source": [
    "Question18 = \"Give me five titles of Gaba\"\n",
    "qa_with_sources(Question18)"
   ]
  },
  {
   "cell_type": "code",
   "execution_count": 86,
   "id": "1db63a04",
   "metadata": {},
   "outputs": [
    {
     "data": {
      "text/plain": [
       "{'question': 'Give me five titles of Limestone',\n",
       " 'answer': 'There are different book titles of Paramount publisher, 1) LITTLE BOOKS LEVEL-1: 5 MARBLES W/CD, LINK: https://paramountbooks.com.pk/product/little-books-level-1-5-marbles-w-cd/, 2) PICTURE COMPOSITION: BOOK 5, LINK: https://paramountbooks.com.pk/product/picture-composition-book-5/, 3) EXPLORING READING 5, LINK: https://paramountbooks.com.pk/product/exploring-reading-5/, 4) PARAMOUNT HAPPY READERS: ON STAGE L-5 BOOK 5, LINK: https://paramountbooks.com.pk/product/paramount-happy-readers-on-stage-l-5-book-5/',\n",
       " 'sources': ''}"
      ]
     },
     "execution_count": 86,
     "metadata": {},
     "output_type": "execute_result"
    }
   ],
   "source": [
    "Question19 = \"Give me five titles of Limestone\"\n",
    "qa_with_sources(Question19)"
   ]
  },
  {
   "cell_type": "code",
   "execution_count": null,
   "id": "8cec04ce",
   "metadata": {},
   "outputs": [],
   "source": []
  }
 ],
 "metadata": {
  "kernelspec": {
   "display_name": "Python 3 (ipykernel)",
   "language": "python",
   "name": "python3"
  },
  "language_info": {
   "codemirror_mode": {
    "name": "ipython",
    "version": 3
   },
   "file_extension": ".py",
   "mimetype": "text/x-python",
   "name": "python",
   "nbconvert_exporter": "python",
   "pygments_lexer": "ipython3",
   "version": "3.11.5"
  }
 },
 "nbformat": 4,
 "nbformat_minor": 5
}
